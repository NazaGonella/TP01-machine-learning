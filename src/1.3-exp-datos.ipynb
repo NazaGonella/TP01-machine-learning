{
 "cells": [
  {
   "cell_type": "code",
   "execution_count": null,
   "metadata": {},
   "outputs": [
    {
     "name": "stdout",
     "output_type": "stream",
     "text": [
      "<class 'pandas.core.frame.DataFrame'>\n",
      "RangeIndex: 900 entries, 0 to 899\n",
      "Data columns (total 9 columns):\n",
      " #   Column      Non-Null Count  Dtype  \n",
      "---  ------      --------------  -----  \n",
      " 0   area        900 non-null    Int64  \n",
      " 1   area_units  900 non-null    string \n",
      " 2   is_house    900 non-null    bool   \n",
      " 3   has_pool    900 non-null    bool   \n",
      " 4   age         770 non-null    Int64  \n",
      " 5   price       900 non-null    Int64  \n",
      " 6   lat         900 non-null    Float64\n",
      " 7   lon         900 non-null    Float64\n",
      " 8   rooms       828 non-null    Int64  \n",
      "dtypes: Float64(2), Int64(4), bool(2), string(1)"
     ]
    }
   ],
   "source": [
    "import pandas as pd\n",
    "from utils import Utils, RawData\n",
    "\n",
    "casas_dev : pd.DataFrame = Utils.correct_data_types(RawData.casas_dev)\n",
    "casas_dev = Utils.convert_area_units(casas_dev, 'm2')\n",
    "casas_dev.info(memory_usage=False)"
   ]
  },
  {
   "cell_type": "code",
   "execution_count": 13,
   "metadata": {},
   "outputs": [
    {
     "name": "stdout",
     "output_type": "stream",
     "text": [
      "<class 'pandas.core.frame.DataFrame'>\n",
      "RangeIndex: 900 entries, 0 to 899\n",
      "Data columns (total 9 columns):\n",
      " #   Column      Non-Null Count  Dtype  \n",
      "---  ------      --------------  -----  \n",
      " 0   area        900 non-null    Float64\n",
      " 1   area_units  900 non-null    string \n",
      " 2   is_house    900 non-null    bool   \n",
      " 3   has_pool    900 non-null    bool   \n",
      " 4   age         770 non-null    Float64\n",
      " 5   price       900 non-null    Float64\n",
      " 6   lat         900 non-null    Float64\n",
      " 7   lon         900 non-null    Float64\n",
      " 8   rooms       828 non-null    Float64\n",
      "dtypes: Float64(6), bool(2), string(1)"
     ]
    }
   ],
   "source": [
    "casas_dev_normalized : pd.DataFrame = Utils.normalize_numeric_columns(casas_dev)\n",
    "casas_dev_normalized.info(memory_usage=False)"
   ]
  },
  {
   "cell_type": "code",
   "execution_count": 14,
   "metadata": {},
   "outputs": [
    {
     "data": {
      "text/html": [
       "<div>\n",
       "<style scoped>\n",
       "    .dataframe tbody tr th:only-of-type {\n",
       "        vertical-align: middle;\n",
       "    }\n",
       "\n",
       "    .dataframe tbody tr th {\n",
       "        vertical-align: top;\n",
       "    }\n",
       "\n",
       "    .dataframe thead th {\n",
       "        text-align: right;\n",
       "    }\n",
       "</style>\n",
       "<table border=\"1\" class=\"dataframe\">\n",
       "  <thead>\n",
       "    <tr style=\"text-align: right;\">\n",
       "      <th></th>\n",
       "      <th>area</th>\n",
       "      <th>area_units</th>\n",
       "      <th>is_house</th>\n",
       "      <th>has_pool</th>\n",
       "      <th>age</th>\n",
       "      <th>price</th>\n",
       "      <th>lat</th>\n",
       "      <th>lon</th>\n",
       "      <th>rooms</th>\n",
       "    </tr>\n",
       "  </thead>\n",
       "  <tbody>\n",
       "    <tr>\n",
       "      <th>0</th>\n",
       "      <td>59</td>\n",
       "      <td>sqft</td>\n",
       "      <td>True</td>\n",
       "      <td>False</td>\n",
       "      <td>18</td>\n",
       "      <td>546</td>\n",
       "      <td>40.679064</td>\n",
       "      <td>-74.007844</td>\n",
       "      <td>2</td>\n",
       "    </tr>\n",
       "    <tr>\n",
       "      <th>1</th>\n",
       "      <td>102</td>\n",
       "      <td>sqft</td>\n",
       "      <td>False</td>\n",
       "      <td>False</td>\n",
       "      <td>9</td>\n",
       "      <td>759</td>\n",
       "      <td>40.712839</td>\n",
       "      <td>-73.96775</td>\n",
       "      <td>3</td>\n",
       "    </tr>\n",
       "    <tr>\n",
       "      <th>2</th>\n",
       "      <td>62</td>\n",
       "      <td>sqft</td>\n",
       "      <td>False</td>\n",
       "      <td>False</td>\n",
       "      <td>7</td>\n",
       "      <td>464</td>\n",
       "      <td>40.669863</td>\n",
       "      <td>-74.029414</td>\n",
       "      <td>2</td>\n",
       "    </tr>\n",
       "    <tr>\n",
       "      <th>3</th>\n",
       "      <td>127</td>\n",
       "      <td>m2</td>\n",
       "      <td>True</td>\n",
       "      <td>True</td>\n",
       "      <td>16</td>\n",
       "      <td>251</td>\n",
       "      <td>-34.600437</td>\n",
       "      <td>-58.415266</td>\n",
       "      <td>4</td>\n",
       "    </tr>\n",
       "    <tr>\n",
       "      <th>4</th>\n",
       "      <td>128</td>\n",
       "      <td>sqft</td>\n",
       "      <td>False</td>\n",
       "      <td>False</td>\n",
       "      <td>8</td>\n",
       "      <td>963</td>\n",
       "      <td>40.722322</td>\n",
       "      <td>-73.983229</td>\n",
       "      <td>4</td>\n",
       "    </tr>\n",
       "  </tbody>\n",
       "</table>\n",
       "</div>"
      ],
      "text/plain": [
       "   area area_units  is_house  has_pool  age  price        lat        lon  \\\n",
       "0    59       sqft      True     False   18    546  40.679064 -74.007844   \n",
       "1   102       sqft     False     False    9    759  40.712839  -73.96775   \n",
       "2    62       sqft     False     False    7    464  40.669863 -74.029414   \n",
       "3   127         m2      True      True   16    251 -34.600437 -58.415266   \n",
       "4   128       sqft     False     False    8    963  40.722322 -73.983229   \n",
       "\n",
       "   rooms  \n",
       "0      2  \n",
       "1      3  \n",
       "2      2  \n",
       "3      4  \n",
       "4      4  "
      ]
     },
     "execution_count": 14,
     "metadata": {},
     "output_type": "execute_result"
    }
   ],
   "source": [
    "casas_dev.head()"
   ]
  },
  {
   "cell_type": "code",
   "execution_count": 15,
   "metadata": {},
   "outputs": [
    {
     "data": {
      "text/html": [
       "<div>\n",
       "<style scoped>\n",
       "    .dataframe tbody tr th:only-of-type {\n",
       "        vertical-align: middle;\n",
       "    }\n",
       "\n",
       "    .dataframe tbody tr th {\n",
       "        vertical-align: top;\n",
       "    }\n",
       "\n",
       "    .dataframe thead th {\n",
       "        text-align: right;\n",
       "    }\n",
       "</style>\n",
       "<table border=\"1\" class=\"dataframe\">\n",
       "  <thead>\n",
       "    <tr style=\"text-align: right;\">\n",
       "      <th></th>\n",
       "      <th>area</th>\n",
       "      <th>area_units</th>\n",
       "      <th>is_house</th>\n",
       "      <th>has_pool</th>\n",
       "      <th>age</th>\n",
       "      <th>price</th>\n",
       "      <th>lat</th>\n",
       "      <th>lon</th>\n",
       "      <th>rooms</th>\n",
       "    </tr>\n",
       "  </thead>\n",
       "  <tbody>\n",
       "    <tr>\n",
       "      <th>0</th>\n",
       "      <td>-1.184423</td>\n",
       "      <td>sqft</td>\n",
       "      <td>True</td>\n",
       "      <td>False</td>\n",
       "      <td>1.631468</td>\n",
       "      <td>0.229896</td>\n",
       "      <td>1.027922</td>\n",
       "      <td>-1.029048</td>\n",
       "      <td>-0.777928</td>\n",
       "    </tr>\n",
       "    <tr>\n",
       "      <th>1</th>\n",
       "      <td>0.238429</td>\n",
       "      <td>sqft</td>\n",
       "      <td>False</td>\n",
       "      <td>False</td>\n",
       "      <td>-0.254135</td>\n",
       "      <td>0.843512</td>\n",
       "      <td>1.028819</td>\n",
       "      <td>-1.023917</td>\n",
       "      <td>0.276285</td>\n",
       "    </tr>\n",
       "    <tr>\n",
       "      <th>2</th>\n",
       "      <td>-1.085154</td>\n",
       "      <td>sqft</td>\n",
       "      <td>False</td>\n",
       "      <td>False</td>\n",
       "      <td>-0.673157</td>\n",
       "      <td>-0.006331</td>\n",
       "      <td>1.027677</td>\n",
       "      <td>-1.031808</td>\n",
       "      <td>-0.777928</td>\n",
       "    </tr>\n",
       "    <tr>\n",
       "      <th>3</th>\n",
       "      <td>1.065668</td>\n",
       "      <td>m2</td>\n",
       "      <td>True</td>\n",
       "      <td>True</td>\n",
       "      <td>1.212445</td>\n",
       "      <td>-0.619947</td>\n",
       "      <td>-0.970935</td>\n",
       "      <td>0.966503</td>\n",
       "      <td>1.330499</td>\n",
       "    </tr>\n",
       "    <tr>\n",
       "      <th>4</th>\n",
       "      <td>1.098757</td>\n",
       "      <td>sqft</td>\n",
       "      <td>False</td>\n",
       "      <td>False</td>\n",
       "      <td>-0.463646</td>\n",
       "      <td>1.4312</td>\n",
       "      <td>1.02907</td>\n",
       "      <td>-1.025898</td>\n",
       "      <td>1.330499</td>\n",
       "    </tr>\n",
       "  </tbody>\n",
       "</table>\n",
       "</div>"
      ],
      "text/plain": [
       "       area area_units  is_house  has_pool       age     price       lat  \\\n",
       "0 -1.184423       sqft      True     False  1.631468  0.229896  1.027922   \n",
       "1  0.238429       sqft     False     False -0.254135  0.843512  1.028819   \n",
       "2 -1.085154       sqft     False     False -0.673157 -0.006331  1.027677   \n",
       "3  1.065668         m2      True      True  1.212445 -0.619947 -0.970935   \n",
       "4  1.098757       sqft     False     False -0.463646    1.4312   1.02907   \n",
       "\n",
       "        lon     rooms  \n",
       "0 -1.029048 -0.777928  \n",
       "1 -1.023917  0.276285  \n",
       "2 -1.031808 -0.777928  \n",
       "3  0.966503  1.330499  \n",
       "4 -1.025898  1.330499  "
      ]
     },
     "execution_count": 15,
     "metadata": {},
     "output_type": "execute_result"
    }
   ],
   "source": [
    "casas_dev_normalized.head()"
   ]
  },
  {
   "cell_type": "code",
   "execution_count": 16,
   "metadata": {},
   "outputs": [],
   "source": [
    "train : pd.DataFrame\n",
    "validation : pd.DataFrame\n",
    "train, validation = Utils.get_train_and_validation_sets(casas_dev_normalized, train_fraction=0.8, seed=42)"
   ]
  },
  {
   "cell_type": "code",
   "execution_count": 17,
   "metadata": {},
   "outputs": [
    {
     "name": "stdout",
     "output_type": "stream",
     "text": [
      "<class 'pandas.core.frame.DataFrame'>\n",
      "Index: 720 entries, 70 to 645\n",
      "Data columns (total 9 columns):\n",
      " #   Column      Non-Null Count  Dtype  \n",
      "---  ------      --------------  -----  \n",
      " 0   area        720 non-null    Float64\n",
      " 1   area_units  720 non-null    string \n",
      " 2   is_house    720 non-null    bool   \n",
      " 3   has_pool    720 non-null    bool   \n",
      " 4   age         613 non-null    Float64\n",
      " 5   price       720 non-null    Float64\n",
      " 6   lat         720 non-null    Float64\n",
      " 7   lon         720 non-null    Float64\n",
      " 8   rooms       662 non-null    Float64\n",
      "dtypes: Float64(6), bool(2), string(1)"
     ]
    }
   ],
   "source": [
    "train.info(memory_usage=False)"
   ]
  },
  {
   "cell_type": "code",
   "execution_count": 18,
   "metadata": {},
   "outputs": [
    {
     "name": "stdout",
     "output_type": "stream",
     "text": [
      "<class 'pandas.core.frame.DataFrame'>\n",
      "Index: 180 entries, 1 to 896\n",
      "Data columns (total 9 columns):\n",
      " #   Column      Non-Null Count  Dtype  \n",
      "---  ------      --------------  -----  \n",
      " 0   area        180 non-null    Float64\n",
      " 1   area_units  180 non-null    string \n",
      " 2   is_house    180 non-null    bool   \n",
      " 3   has_pool    180 non-null    bool   \n",
      " 4   age         157 non-null    Float64\n",
      " 5   price       180 non-null    Float64\n",
      " 6   lat         180 non-null    Float64\n",
      " 7   lon         180 non-null    Float64\n",
      " 8   rooms       166 non-null    Float64\n",
      "dtypes: Float64(6), bool(2), string(1)"
     ]
    }
   ],
   "source": [
    "validation.info(memory_usage=False)"
   ]
  }
 ],
 "metadata": {
  "kernelspec": {
   "display_name": "usr",
   "language": "python",
   "name": "python3"
  },
  "language_info": {
   "codemirror_mode": {
    "name": "ipython",
    "version": 3
   },
   "file_extension": ".py",
   "mimetype": "text/x-python",
   "name": "python",
   "nbconvert_exporter": "python",
   "pygments_lexer": "ipython3",
   "version": "3.12.3"
  }
 },
 "nbformat": 4,
 "nbformat_minor": 2
}
