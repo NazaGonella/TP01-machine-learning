{
 "cells": [
  {
   "cell_type": "code",
   "execution_count": 1,
   "metadata": {},
   "outputs": [],
   "source": [
    "import pandas as pd\n",
    "from utils import Utils, RawData"
   ]
  },
  {
   "cell_type": "markdown",
   "metadata": {},
   "source": [
    "Utilizo la función de pandas info() para analizar los datos."
   ]
  },
  {
   "cell_type": "code",
   "execution_count": 2,
   "metadata": {},
   "outputs": [
    {
     "name": "stdout",
     "output_type": "stream",
     "text": [
      "\n",
      "<class 'pandas.core.frame.DataFrame'>\n",
      "RangeIndex: 900 entries, 0 to 899\n",
      "Data columns (total 9 columns):\n",
      " #   Column      Non-Null Count  Dtype  \n",
      "---  ------      --------------  -----  \n",
      " 0   area        900 non-null    float64\n",
      " 1   area_units  900 non-null    object \n",
      " 2   is_house    900 non-null    int64  \n",
      " 3   has_pool    900 non-null    int64  \n",
      " 4   age         770 non-null    float64\n",
      " 5   price       900 non-null    float64\n",
      " 6   lat         900 non-null    float64\n",
      " 7   lon         900 non-null    float64\n",
      " 8   rooms       828 non-null    float64\n",
      "dtypes: float64(6), int64(2), object(1)\n",
      "\n",
      "Cantidad de filas con uno o más elementos nulos:  189\n"
     ]
    }
   ],
   "source": [
    "# casas_dev.csv\n",
    "\n",
    "print(\"\")\n",
    "RawData.casas_dev.info(memory_usage=False)\n",
    "print(\"\")\n",
    "print(\"\")\n",
    "print(\"Cantidad de filas con uno o más elementos nulos: \", Utils.get_null_rows(RawData.casas_dev))"
   ]
  },
  {
   "cell_type": "code",
   "execution_count": 3,
   "metadata": {},
   "outputs": [],
   "source": [
    "#\n",
    "#   OBSERVACIONES / POSIBLES CAMBIOS -- 'casas_dev.csv'\n",
    "#\n",
    "#   Tipos de datos erróneos:\n",
    "#   * Las features 'is_house' y 'has_pool' podrían ser booleanos en lugar de enteros.\n",
    "#   * Las features 'age' y 'rooms' podrían ser enteros en lugar de floats.}\n",
    "#   Datos incompletos:\n",
    "#   * La feature 'age' presenta 130 datos nulos.   Podría completarse con el promedio del valor de la feature o remover las filas donde 'age' es nulo.\n",
    "#   * La feature 'rooms' presenta 72 datos nulos.  Podría completarse con el promedio del valor de la feature o remover las filas donde 'rooms' es nulo.\n",
    "#   * En total hay 189 filas con elementos nulos.\n",
    "#   Datos inconsistentes:\n",
    "#   * La feature 'area' contiene valores numéricos en dos unidades de medida diferentes. Sería conveniente convertir todos los valores a una unidad en común.\n",
    "#"
   ]
  },
  {
   "cell_type": "code",
   "execution_count": 4,
   "metadata": {},
   "outputs": [
    {
     "name": "stdout",
     "output_type": "stream",
     "text": [
      "\n",
      "<class 'pandas.core.frame.DataFrame'>\n",
      "RangeIndex: 100 entries, 0 to 99\n",
      "Data columns (total 9 columns):\n",
      " #   Column      Non-Null Count  Dtype  \n",
      "---  ------      --------------  -----  \n",
      " 0   area        100 non-null    float64\n",
      " 1   area_units  100 non-null    object \n",
      " 2   is_house    100 non-null    int64  \n",
      " 3   has_pool    100 non-null    int64  \n",
      " 4   age         84 non-null     float64\n",
      " 5   price       100 non-null    float64\n",
      " 6   lat         100 non-null    float64\n",
      " 7   lon         100 non-null    float64\n",
      " 8   rooms       96 non-null     float64\n",
      "dtypes: float64(6), int64(2), object(1)\n",
      "\n",
      "Cantidad de filas con uno o más elementos nulos:  19\n"
     ]
    }
   ],
   "source": [
    "# casas_test.csv\n",
    "\n",
    "print(\"\")\n",
    "RawData.casas_test.info(memory_usage=False)\n",
    "print(\"\")\n",
    "print(\"\")\n",
    "print(\"Cantidad de filas con uno o más elementos nulos: \", Utils.get_null_rows(RawData.casas_test))"
   ]
  },
  {
   "cell_type": "code",
   "execution_count": 5,
   "metadata": {},
   "outputs": [],
   "source": [
    "#\n",
    "#   OBSERVACIONES / POSIBLES CAMBIOS -- 'casas_test.csv'\n",
    "#\n",
    "#   Tipos de datos erróneos:\n",
    "#   * Mismos tipos de datos que el dataset anterior.\n",
    "#   Datos incompletos:\n",
    "#   * La feature 'age' presenta 16 datos nulos.   Podría completarse con el promedio del valor de la feature o remover las filas donde 'age' es nulo.\n",
    "#   * La feature 'rooms' presenta 4 datos nulos.  Podría completarse con el promedio del valor de la feature o remover las filas donde 'rooms' es nulo.\n",
    "#   * En total hay 19 filas con elementos nulos.\n",
    "#"
   ]
  },
  {
   "cell_type": "code",
   "execution_count": 6,
   "metadata": {},
   "outputs": [
    {
     "name": "stdout",
     "output_type": "stream",
     "text": [
      "\n",
      "<class 'pandas.core.frame.DataFrame'>\n",
      "RangeIndex: 1 entries, 0 to 0\n",
      "Data columns (total 8 columns):\n",
      " #   Column      Non-Null Count  Dtype  \n",
      "---  ------      --------------  -----  \n",
      " 0   area        1 non-null      float64\n",
      " 1   area_units  1 non-null      object \n",
      " 2   is_house    1 non-null      int64  \n",
      " 3   has_pool    1 non-null      int64  \n",
      " 4   age         1 non-null      float64\n",
      " 5   lat         1 non-null      float64\n",
      " 6   lon         1 non-null      float64\n",
      " 7   rooms       1 non-null      int64  \n",
      "dtypes: float64(4), int64(3), object(1)\n",
      "\n",
      "Cantidad de filas con uno o más elementos nulos:  0\n"
     ]
    }
   ],
   "source": [
    "# vivienda_amanda.csv\n",
    "\n",
    "print(\"\")\n",
    "RawData.vivienda_amanda.info(memory_usage=False)\n",
    "print(\"\")\n",
    "print(\"\")\n",
    "print(\"Cantidad de filas con uno o más elementos nulos: \", Utils.get_null_rows(RawData.vivienda_amanda))"
   ]
  },
  {
   "cell_type": "code",
   "execution_count": 7,
   "metadata": {},
   "outputs": [],
   "source": [
    "#\n",
    "#   OBSERVACIONES / POSIBLES CAMBIOS -- 'vivienda_amanda.csv'\n",
    "#   Tipos de datos erróneos:\n",
    "#   * Mismos tipos de datos que el dataset anterior con excepción de 'rooms' cuyo tipo es int.\n",
    "#"
   ]
  },
  {
   "cell_type": "markdown",
   "metadata": {},
   "source": [
    "CORRECCIONES DATASET"
   ]
  },
  {
   "cell_type": "code",
   "execution_count": 8,
   "metadata": {},
   "outputs": [
    {
     "name": "stdout",
     "output_type": "stream",
     "text": [
      "<class 'pandas.core.frame.DataFrame'>\n",
      "RangeIndex: 900 entries, 0 to 899\n",
      "Data columns (total 9 columns):\n",
      " #   Column      Non-Null Count  Dtype  \n",
      "---  ------      --------------  -----  \n",
      " 0   area        900 non-null    Int64  \n",
      " 1   area_units  900 non-null    string \n",
      " 2   is_house    900 non-null    bool   \n",
      " 3   has_pool    900 non-null    bool   \n",
      " 4   age         770 non-null    Int64  \n",
      " 5   price       900 non-null    Int64  \n",
      " 6   lat         900 non-null    Float64\n",
      " 7   lon         900 non-null    Float64\n",
      " 8   rooms       828 non-null    Int64  \n",
      "dtypes: Float64(2), Int64(4), bool(2), string(1)"
     ]
    }
   ],
   "source": [
    "# casas_dev.csv\n",
    "\n",
    "updated_casas_dev : pd.DataFrame = Utils.correct_data_types(RawData.casas_dev)\n",
    "updated_casas_dev : pd.DataFrame = Utils.convert_area_units(updated_casas_dev, 'm2')\n",
    "updated_casas_dev.info(memory_usage=False)"
   ]
  },
  {
   "cell_type": "code",
   "execution_count": 9,
   "metadata": {},
   "outputs": [
    {
     "name": "stdout",
     "output_type": "stream",
     "text": [
      "<class 'pandas.core.frame.DataFrame'>\n",
      "RangeIndex: 100 entries, 0 to 99\n",
      "Data columns (total 9 columns):\n",
      " #   Column      Non-Null Count  Dtype  \n",
      "---  ------      --------------  -----  \n",
      " 0   area        100 non-null    Int64  \n",
      " 1   area_units  100 non-null    string \n",
      " 2   is_house    100 non-null    bool   \n",
      " 3   has_pool    100 non-null    bool   \n",
      " 4   age         84 non-null     Int64  \n",
      " 5   price       100 non-null    Int64  \n",
      " 6   lat         100 non-null    Float64\n",
      " 7   lon         100 non-null    Float64\n",
      " 8   rooms       96 non-null     Int64  \n",
      "dtypes: Float64(2), Int64(4), bool(2), string(1)"
     ]
    }
   ],
   "source": [
    "# casas_test.csv\n",
    "\n",
    "updated_casas_test : pd.DataFrame = Utils.correct_data_types(RawData.casas_test)\n",
    "updated_casas_test : pd.DataFrame = Utils.convert_area_units(updated_casas_test, 'm2')\n",
    "updated_casas_test.info(memory_usage=False)"
   ]
  },
  {
   "cell_type": "code",
   "execution_count": 10,
   "metadata": {},
   "outputs": [
    {
     "name": "stdout",
     "output_type": "stream",
     "text": [
      "<class 'pandas.core.frame.DataFrame'>\n",
      "RangeIndex: 1 entries, 0 to 0\n",
      "Data columns (total 8 columns):\n",
      " #   Column      Non-Null Count  Dtype  \n",
      "---  ------      --------------  -----  \n",
      " 0   area        1 non-null      Int64  \n",
      " 1   area_units  1 non-null      string \n",
      " 2   is_house    1 non-null      bool   \n",
      " 3   has_pool    1 non-null      bool   \n",
      " 4   age         1 non-null      Int64  \n",
      " 5   lat         1 non-null      Float64\n",
      " 6   lon         1 non-null      Float64\n",
      " 7   rooms       1 non-null      Int64  \n",
      "dtypes: Float64(2), Int64(3), bool(2), string(1)"
     ]
    }
   ],
   "source": [
    "# vivienda_amanda.csv\n",
    "\n",
    "updated_vivienda_amanda : pd.DataFrame = Utils.correct_data_types(RawData.vivienda_amanda)\n",
    "updated_vivienda_amanda : pd.DataFrame = Utils.convert_area_units(updated_vivienda_amanda, 'm2')\n",
    "updated_vivienda_amanda.info(memory_usage=False)"
   ]
  }
 ],
 "metadata": {
  "kernelspec": {
   "display_name": "usr",
   "language": "python",
   "name": "python3"
  },
  "language_info": {
   "codemirror_mode": {
    "name": "ipython",
    "version": 3
   },
   "file_extension": ".py",
   "mimetype": "text/x-python",
   "name": "python",
   "nbconvert_exporter": "python",
   "pygments_lexer": "ipython3",
   "version": "3.12.3"
  }
 },
 "nbformat": 4,
 "nbformat_minor": 2
}
