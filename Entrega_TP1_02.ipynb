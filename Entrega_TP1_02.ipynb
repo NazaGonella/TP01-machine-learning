{
 "cells": [
  {
   "cell_type": "code",
   "execution_count": 1,
   "metadata": {},
   "outputs": [],
   "source": [
    "import pandas as pd\n",
    "import numpy as np\n",
    "import matplotlib.pyplot as plt\n",
    "import seaborn as sb\n",
    "import src.preprocessing as prepro\n",
    "import src.data_handler as data_handler\n",
    "from src.models import LinealReg\n",
    "\n",
    "raw_data : data_handler.RawData = data_handler.RawData()"
   ]
  },
  {
   "cell_type": "code",
   "execution_count": null,
   "metadata": {},
   "outputs": [],
   "source": [
    "processed_data : data_handler.ProcessedData = data_handler.ProcessedData(correct_data_types=True, standarize=False, area_units='m2')\n",
    "processed_data.save_data()\n",
    "processed_data_nona : data_handler.ProcessedData = data_handler.ProcessedData(correct_data_types=True, standarize=False, area_units='m2', remove_na_rows=True)\n",
    "processed_data_nona.save_data(ext='nona')\n",
    "processed_data_standarized : data_handler.ProcessedData = data_handler.ProcessedData(correct_data_types=True, standarize=True, area_units='m2')\n",
    "processed_data_standarized.save_data(ext='standarized')\n",
    "processed_data_standarized_nona : data_handler.ProcessedData = data_handler.ProcessedData(correct_data_types=True, standarize=True, area_units='m2', remove_na_rows=True) # Contiene los datos estandarizados, con los tipos corregidos, y unidades unificadas.\n",
    "processed_data_standarized_nona.save_data(ext='standarized_nona')"
   ]
  },
  {
   "cell_type": "code",
   "execution_count": null,
   "metadata": {},
   "outputs": [
    {
     "name": "stdout",
     "output_type": "stream",
     "text": [
      "Cantidad de muestras del set de entrenamiento:  569\n",
      "Cantidad de muestras del set de validación:     142\n"
     ]
    }
   ],
   "source": [
    "train : pd.DataFrame\n",
    "validation : pd.DataFrame\n",
    "train, validation = data_handler.get_train_and_validation_sets(processed_data_nona.casas_dev, train_fraction=0.8, seed=42)\n",
    "train_standarized : pd.DataFrame = prepro.standarize_numeric_columns(train)\n",
    "validation_standarized : pd.DataFrame = prepro.standarize_numeric_columns(train)\n",
    "other_features = ['area', 'price', 'age', 'lat', 'lon', 'rooms']\n",
    "train_means : dict[str, float] = {f : train[f].mean() for f in other_features}\n",
    "train_stds : dict[str, float] = {f : train[f].std() for f in other_features}\n",
    "validation_means : dict[str, float] = {f : validation[f].mean() for f in other_features}\n",
    "validation_stds : dict[str, float] = {f : validation[f].std() for f in other_features}\n",
    "\n",
    "\n",
    "print(\"Cantidad de muestras del set de entrenamiento: \", train.shape[0])\n",
    "print(\"Cantidad de muestras del set de validación:    \", validation.shape[0])"
   ]
  },
  {
   "cell_type": "markdown",
   "metadata": {},
   "source": [
    "4 ) Hago feature engineering a partir de un dataframe con datos procesados no estandarizados: 'processed_data'"
   ]
  },
  {
   "cell_type": "code",
   "execution_count": null,
   "metadata": {},
   "outputs": [],
   "source": []
  }
 ],
 "metadata": {
  "kernelspec": {
   "display_name": "usr",
   "language": "python",
   "name": "python3"
  },
  "language_info": {
   "codemirror_mode": {
    "name": "ipython",
    "version": 3
   },
   "file_extension": ".py",
   "mimetype": "text/x-python",
   "name": "python",
   "nbconvert_exporter": "python",
   "pygments_lexer": "ipython3",
   "version": "3.12.3"
  }
 },
 "nbformat": 4,
 "nbformat_minor": 2
}
