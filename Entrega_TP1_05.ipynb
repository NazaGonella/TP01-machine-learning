{
 "cells": [
  {
   "cell_type": "code",
   "execution_count": 1,
   "metadata": {},
   "outputs": [],
   "source": [
    "import pandas as pd\n",
    "import numpy as np\n",
    "import matplotlib.pyplot as plt\n",
    "import seaborn as sb\n",
    "import src.preprocessing as prepro\n",
    "import src.data_handler as data_handler\n",
    "from src.models import LinealReg\n",
    "\n",
    "raw_data : data_handler.RawData = data_handler.RawData()"
   ]
  },
  {
   "cell_type": "code",
   "execution_count": 2,
   "metadata": {},
   "outputs": [
    {
     "data": {
      "text/html": [
       "<div>\n",
       "<style scoped>\n",
       "    .dataframe tbody tr th:only-of-type {\n",
       "        vertical-align: middle;\n",
       "    }\n",
       "\n",
       "    .dataframe tbody tr th {\n",
       "        vertical-align: top;\n",
       "    }\n",
       "\n",
       "    .dataframe thead th {\n",
       "        text-align: right;\n",
       "    }\n",
       "</style>\n",
       "<table border=\"1\" class=\"dataframe\">\n",
       "  <thead>\n",
       "    <tr style=\"text-align: right;\">\n",
       "      <th></th>\n",
       "      <th>area</th>\n",
       "      <th>area_units</th>\n",
       "      <th>is_house</th>\n",
       "      <th>has_pool</th>\n",
       "      <th>age</th>\n",
       "      <th>price</th>\n",
       "      <th>rooms</th>\n",
       "      <th>high_latitude</th>\n",
       "    </tr>\n",
       "  </thead>\n",
       "  <tbody>\n",
       "    <tr>\n",
       "      <th>0</th>\n",
       "      <td>59</td>\n",
       "      <td>m2</td>\n",
       "      <td>True</td>\n",
       "      <td>False</td>\n",
       "      <td>18</td>\n",
       "      <td>546</td>\n",
       "      <td>2</td>\n",
       "      <td>True</td>\n",
       "    </tr>\n",
       "    <tr>\n",
       "      <th>1</th>\n",
       "      <td>102</td>\n",
       "      <td>m2</td>\n",
       "      <td>False</td>\n",
       "      <td>False</td>\n",
       "      <td>9</td>\n",
       "      <td>759</td>\n",
       "      <td>3</td>\n",
       "      <td>True</td>\n",
       "    </tr>\n",
       "    <tr>\n",
       "      <th>2</th>\n",
       "      <td>62</td>\n",
       "      <td>m2</td>\n",
       "      <td>False</td>\n",
       "      <td>False</td>\n",
       "      <td>7</td>\n",
       "      <td>464</td>\n",
       "      <td>2</td>\n",
       "      <td>True</td>\n",
       "    </tr>\n",
       "    <tr>\n",
       "      <th>3</th>\n",
       "      <td>127</td>\n",
       "      <td>m2</td>\n",
       "      <td>True</td>\n",
       "      <td>True</td>\n",
       "      <td>16</td>\n",
       "      <td>251</td>\n",
       "      <td>4</td>\n",
       "      <td>False</td>\n",
       "    </tr>\n",
       "    <tr>\n",
       "      <th>4</th>\n",
       "      <td>128</td>\n",
       "      <td>m2</td>\n",
       "      <td>False</td>\n",
       "      <td>False</td>\n",
       "      <td>8</td>\n",
       "      <td>963</td>\n",
       "      <td>4</td>\n",
       "      <td>True</td>\n",
       "    </tr>\n",
       "  </tbody>\n",
       "</table>\n",
       "</div>"
      ],
      "text/plain": [
       "   area area_units  is_house  has_pool  age  price  rooms  high_latitude\n",
       "0    59         m2      True     False   18    546      2           True\n",
       "1   102         m2     False     False    9    759      3           True\n",
       "2    62         m2     False     False    7    464      2           True\n",
       "3   127         m2      True      True   16    251      4          False\n",
       "4   128         m2     False     False    8    963      4           True"
      ]
     },
     "execution_count": 2,
     "metadata": {},
     "output_type": "execute_result"
    }
   ],
   "source": [
    "engineered_data : data_handler.ProcessedData = data_handler.ProcessedData(correct_data_types=True, standarize=False, area_units='m2')\n",
    "engineered_data.fill_missing_values(method='mean')\n",
    "engineered_data.casas_dev['high_latitude'] = np.where(engineered_data.casas_dev['lat'] > 0, True, False)\n",
    "engineered_data.casas_dev = engineered_data.casas_dev.drop(columns=['lon', 'lat'])\n",
    "engineered_data.casas_dev.head()"
   ]
  },
  {
   "cell_type": "code",
   "execution_count": 3,
   "metadata": {},
   "outputs": [],
   "source": [
    "train : pd.DataFrame\n",
    "validation : pd.DataFrame\n",
    "train, validation = data_handler.get_train_and_validation_sets(engineered_data.casas_dev, train_fraction=0.8, seed=42)\n",
    "train_standarized : pd.DataFrame = prepro.standarize_numeric_columns(train, excluded_columns=set(['lat', 'lon']))\n",
    "validation_standarized : pd.DataFrame = prepro.standarize_numeric_columns(train, excluded_columns=set(['lat', 'lon']))\n",
    "other_features = ['area', 'price', 'age', 'rooms', 'high_latitude']\n",
    "train_means : dict[str, float] = {f : train[f].mean() for f in other_features}\n",
    "train_stds : dict[str, float] = {f : train[f].std() for f in other_features}\n",
    "validation_means : dict[str, float] = {f : validation[f].mean() for f in other_features}\n",
    "validation_stds : dict[str, float] = {f : validation[f].std() for f in other_features}"
   ]
  },
  {
   "cell_type": "markdown",
   "metadata": {},
   "source": [
    "5.2 )"
   ]
  },
  {
   "cell_type": "code",
   "execution_count": 4,
   "metadata": {},
   "outputs": [
    {
     "ename": "TypeError",
     "evalue": "LinealReg.error_cuadratico_medio() missing 1 required positional argument: 'validation_set'",
     "output_type": "error",
     "traceback": [
      "\u001b[31m---------------------------------------------------------------------------\u001b[39m",
      "\u001b[31mTypeError\u001b[39m                                 Traceback (most recent call last)",
      "\u001b[36mCell\u001b[39m\u001b[36m \u001b[39m\u001b[32mIn[4]\u001b[39m\u001b[32m, line 17\u001b[39m\n\u001b[32m     14\u001b[39m     \u001b[38;5;66;03m# ws['area'].append(lin.coef[1])\u001b[39;00m\n\u001b[32m     15\u001b[39m     \u001b[38;5;66;03m# ws['high_latitude'].append(lin.coef[2])\u001b[39;00m\n\u001b[32m     16\u001b[39m     ws[\u001b[33m'\u001b[39m\u001b[33mhigh_latitude\u001b[39m\u001b[33m'\u001b[39m].append(lin.coef[\u001b[32m1\u001b[39m])\n\u001b[32m---> \u001b[39m\u001b[32m17\u001b[39m     ECMs.append(\u001b[43mlin\u001b[49m\u001b[43m.\u001b[49m\u001b[43merror_cuadratico_medio\u001b[49m\u001b[43m(\u001b[49m\u001b[43m)\u001b[49m)\n\u001b[32m     18\u001b[39m \u001b[38;5;66;03m# print(len(ws['bias']))\u001b[39;00m\n\u001b[32m     19\u001b[39m \u001b[38;5;66;03m# print(len(ws['high_latitude']))\u001b[39;00m\n\u001b[32m     20\u001b[39m \u001b[38;5;66;03m# print(lin.error_cuadratico_medio())\u001b[39;00m\n\u001b[32m     21\u001b[39m \u001b[38;5;66;03m# lin.print_coef(['high_latitude'])\u001b[39;00m\n\u001b[32m     22\u001b[39m plt.scatter(ws[\u001b[33m'\u001b[39m\u001b[33mbias\u001b[39m\u001b[33m'\u001b[39m], ws[\u001b[33m'\u001b[39m\u001b[33mhigh_latitude\u001b[39m\u001b[33m'\u001b[39m], c=ECMs, edgecolors=\u001b[33m'\u001b[39m\u001b[33mlightcyan\u001b[39m\u001b[33m'\u001b[39m)\n",
      "\u001b[31mTypeError\u001b[39m: LinealReg.error_cuadratico_medio() missing 1 required positional argument: 'validation_set'"
     ]
    }
   ],
   "source": [
    "# lin.fit_pseudo_inverse()\n",
    "ws : dict[str, list[float]] = {\n",
    "    'bias' : [],\n",
    "    # 'area' : [],\n",
    "    'high_latitude' : [],\n",
    "}\n",
    "ECMs : list[float] = []\n",
    "Ls : list[float] = [0, 25, 50, 75, 100]\n",
    "for l in Ls:\n",
    "    lin : LinealReg = LinealReg(train_standarized[['high_latitude']].to_numpy(), train_standarized['price'].to_numpy(), L2=l)\n",
    "    # lin.fit_gradient_descent(step_size=0.00005, tolerance=0.5, max_number_of_steps=-1)\n",
    "    lin.fit_pseudo_inverse()\n",
    "    ws['bias'].append(lin.coef[0])\n",
    "    # ws['area'].append(lin.coef[1])\n",
    "    # ws['high_latitude'].append(lin.coef[2])\n",
    "    ws['high_latitude'].append(lin.coef[1])\n",
    "    ECMs.append(lin.error_cuadratico_medio())\n",
    "# print(len(ws['bias']))\n",
    "# print(len(ws['high_latitude']))\n",
    "# print(lin.error_cuadratico_medio())\n",
    "# lin.print_coef(['high_latitude'])\n",
    "plt.scatter(ws['bias'], ws['high_latitude'], c=ECMs, edgecolors='lightcyan')\n",
    "plt.xlabel('bias (w0)')\n",
    "plt.ylabel('high_latitude (w1)')\n",
    "plt.xlim(-0.82, -0.35)\n",
    "plt.colorbar(label='ECM')\n",
    "for i, (x, y) in enumerate(zip(ws['bias'], ws['high_latitude'])):\n",
    "    plt.text(x + 0.007, y - 0.005, f'L2 = {Ls[i]}', fontsize=8, ha='left', va='bottom')\n",
    "plt.show()"
   ]
  },
  {
   "cell_type": "markdown",
   "metadata": {},
   "source": [
    "5.3 )"
   ]
  },
  {
   "cell_type": "code",
   "execution_count": null,
   "metadata": {},
   "outputs": [
    {
     "data": {
      "image/png": "[encoded data removed]",
      "text/plain": [
       "<Figure size 640x480 with 2 Axes>"
      ]
     },
     "metadata": {},
     "output_type": "display_data"
    }
   ],
   "source": [
    "# lin.fit_pseudo_inverse()\n",
    "ws : dict[str, list[float]] = {\n",
    "    'bias' : [],\n",
    "    # 'area' : [],\n",
    "    'high_latitude' : [],\n",
    "}\n",
    "ECMs : list[float] = []\n",
    "Ls : list[float] = [0, 25, 50, 75, 100]\n",
    "for l in Ls:\n",
    "    lin : LinealReg = LinealReg(train_standarized[['high_latitude']].to_numpy(), train_standarized['price'].to_numpy(), L1=l)\n",
    "    lin.fit_gradient_descent(step_size=0.00005, tolerance=0.5, max_number_of_steps=-1)\n",
    "    # lin.fit_pseudo_inverse()\n",
    "    ws['bias'].append(lin.coef[0])\n",
    "    # ws['area'].append(lin.coef[1])\n",
    "    # ws['high_latitude'].append(lin.coef[2])\n",
    "    ws['high_latitude'].append(lin.coef[1])\n",
    "    ECMs.append(lin.error_cuadratico_medio())\n",
    "# print(len(ws['bias']))\n",
    "# print(len(ws['high_latitude']))\n",
    "# print(lin.error_cuadratico_medio())\n",
    "# lin.print_coef(['high_latitude'])\n",
    "plt.scatter(ws['bias'], ws['high_latitude'], c=ECMs, edgecolors='lightcyan')\n",
    "plt.xlabel('bias (w0)')\n",
    "plt.ylabel('high_latitude (w1)')\n",
    "plt.xlim(-0.82, -0.47)\n",
    "plt.colorbar(label='ECM')\n",
    "for i, (x, y) in enumerate(zip(ws['bias'], ws['high_latitude'])):\n",
    "    plt.text(x + 0.007, y - 0.005, f'L2 = {Ls[i]}', fontsize=8, ha='left', va='bottom')\n",
    "plt.show()"
   ]
  }
 ],
 "metadata": {
  "kernelspec": {
   "display_name": "usr",
   "language": "python",
   "name": "python3"
  },
  "language_info": {
   "codemirror_mode": {
    "name": "ipython",
    "version": 3
   },
   "file_extension": ".py",
   "mimetype": "text/x-python",
   "name": "python",
   "nbconvert_exporter": "python",
   "pygments_lexer": "ipython3",
   "version": "3.12.3"
  }
 },
 "nbformat": 4,
 "nbformat_minor": 2
}
