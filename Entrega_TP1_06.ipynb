{
 "cells": [
  {
   "cell_type": "code",
   "execution_count": 1,
   "metadata": {},
   "outputs": [],
   "source": [
    "import pandas as pd\n",
    "import numpy as np\n",
    "import matplotlib.pyplot as plt\n",
    "import seaborn as sb\n",
    "import src.preprocessing as prepro\n",
    "import src.data_handler as data_handler\n",
    "from src.models import LinealReg\n",
    "\n",
    "raw_data : data_handler.RawData = data_handler.RawData()"
   ]
  },
  {
   "cell_type": "code",
   "execution_count": 2,
   "metadata": {},
   "outputs": [
    {
     "name": "stdout",
     "output_type": "stream",
     "text": [
      "<class 'pandas.core.frame.DataFrame'>\n",
      "RangeIndex: 900 entries, 0 to 899\n",
      "Data columns (total 9 columns):\n",
      " #   Column          Non-Null Count  Dtype  \n",
      "---  ------          --------------  -----  \n",
      " 0   area            900 non-null    float64\n",
      " 1   is_house        900 non-null    int64  \n",
      " 2   has_pool        900 non-null    int64  \n",
      " 3   age             900 non-null    float64\n",
      " 4   price           900 non-null    float64\n",
      " 5   rooms           900 non-null    float64\n",
      " 6   high_latitude   900 non-null    bool   \n",
      " 7   rooms_per_area  900 non-null    float64\n",
      " 8   log_area        900 non-null    float64\n",
      "dtypes: bool(1), float64(6), int64(2)\n",
      "memory usage: 57.3 KB\n"
     ]
    }
   ],
   "source": [
    "engineered_data : data_handler.ProcessedData = data_handler.ProcessedData(correct_data_types=False, standarize=False, area_units='m2')\n",
    "engineered_data.fill_missing_values(method='mean')\n",
    "engineered_data.casas_dev['high_latitude'] = np.where(engineered_data.casas_dev['lat'] > 0, True, False)\n",
    "engineered_data.casas_dev['rooms_per_area'] = engineered_data.casas_dev['rooms'] / engineered_data.casas_dev['area']\n",
    "engineered_data.casas_dev['log_area'] = np.log(engineered_data.casas_dev['area'])\n",
    "engineered_data.casas_dev = engineered_data.casas_dev.drop(columns=['lon', 'lat', 'area_units'])\n",
    "engineered_data.casas_dev.info()"
   ]
  },
  {
   "cell_type": "code",
   "execution_count": 3,
   "metadata": {},
   "outputs": [
    {
     "data": {
      "text/html": [
       "<div>\n",
       "<style scoped>\n",
       "    .dataframe tbody tr th:only-of-type {\n",
       "        vertical-align: middle;\n",
       "    }\n",
       "\n",
       "    .dataframe tbody tr th {\n",
       "        vertical-align: top;\n",
       "    }\n",
       "\n",
       "    .dataframe thead th {\n",
       "        text-align: right;\n",
       "    }\n",
       "</style>\n",
       "<table border=\"1\" class=\"dataframe\">\n",
       "  <thead>\n",
       "    <tr style=\"text-align: right;\">\n",
       "      <th></th>\n",
       "      <th>area</th>\n",
       "      <th>is_house</th>\n",
       "      <th>has_pool</th>\n",
       "      <th>age</th>\n",
       "      <th>price</th>\n",
       "      <th>rooms</th>\n",
       "      <th>high_latitude</th>\n",
       "      <th>rooms_per_area</th>\n",
       "      <th>log_area</th>\n",
       "    </tr>\n",
       "  </thead>\n",
       "  <tbody>\n",
       "    <tr>\n",
       "      <th>70</th>\n",
       "      <td>-0.454611</td>\n",
       "      <td>0</td>\n",
       "      <td>0</td>\n",
       "      <td>0.191565</td>\n",
       "      <td>0.469669</td>\n",
       "      <td>-0.828209</td>\n",
       "      <td>True</td>\n",
       "      <td>-0.846953</td>\n",
       "      <td>-0.326818</td>\n",
       "    </tr>\n",
       "    <tr>\n",
       "      <th>827</th>\n",
       "      <td>0.173135</td>\n",
       "      <td>0</td>\n",
       "      <td>0</td>\n",
       "      <td>-0.709917</td>\n",
       "      <td>0.880550</td>\n",
       "      <td>0.271995</td>\n",
       "      <td>True</td>\n",
       "      <td>0.132921</td>\n",
       "      <td>0.323658</td>\n",
       "    </tr>\n",
       "    <tr>\n",
       "      <th>231</th>\n",
       "      <td>1.395587</td>\n",
       "      <td>0</td>\n",
       "      <td>0</td>\n",
       "      <td>-0.033806</td>\n",
       "      <td>-0.734041</td>\n",
       "      <td>1.372199</td>\n",
       "      <td>False</td>\n",
       "      <td>-0.015283</td>\n",
       "      <td>1.295449</td>\n",
       "    </tr>\n",
       "    <tr>\n",
       "      <th>588</th>\n",
       "      <td>-0.751964</td>\n",
       "      <td>1</td>\n",
       "      <td>1</td>\n",
       "      <td>-0.033806</td>\n",
       "      <td>0.819786</td>\n",
       "      <td>-0.828209</td>\n",
       "      <td>True</td>\n",
       "      <td>-0.277259</td>\n",
       "      <td>-0.690403</td>\n",
       "    </tr>\n",
       "    <tr>\n",
       "      <th>39</th>\n",
       "      <td>1.957254</td>\n",
       "      <td>1</td>\n",
       "      <td>0</td>\n",
       "      <td>1.318418</td>\n",
       "      <td>-0.563323</td>\n",
       "      <td>1.372199</td>\n",
       "      <td>False</td>\n",
       "      <td>-0.610197</td>\n",
       "      <td>1.656530</td>\n",
       "    </tr>\n",
       "  </tbody>\n",
       "</table>\n",
       "</div>"
      ],
      "text/plain": [
       "         area  is_house  has_pool       age     price     rooms  \\\n",
       "70  -0.454611         0         0  0.191565  0.469669 -0.828209   \n",
       "827  0.173135         0         0 -0.709917  0.880550  0.271995   \n",
       "231  1.395587         0         0 -0.033806 -0.734041  1.372199   \n",
       "588 -0.751964         1         1 -0.033806  0.819786 -0.828209   \n",
       "39   1.957254         1         0  1.318418 -0.563323  1.372199   \n",
       "\n",
       "     high_latitude  rooms_per_area  log_area  \n",
       "70            True       -0.846953 -0.326818  \n",
       "827           True        0.132921  0.323658  \n",
       "231          False       -0.015283  1.295449  \n",
       "588           True       -0.277259 -0.690403  \n",
       "39           False       -0.610197  1.656530  "
      ]
     },
     "execution_count": 3,
     "metadata": {},
     "output_type": "execute_result"
    }
   ],
   "source": [
    "train : pd.DataFrame\n",
    "validation : pd.DataFrame\n",
    "train, validation = data_handler.get_train_and_validation_sets(engineered_data.casas_dev, train_fraction=0.8, seed=42)\n",
    "train_standarized : pd.DataFrame = prepro.standarize_numeric_columns(train, excluded_columns=set(['lat', 'lon', 'is_house', 'has_pool', 'area_units', 'high_latitude']))\n",
    "validation_standarized : pd.DataFrame = prepro.standarize_numeric_columns(validation, excluded_columns=set(['lat', 'lon', 'is_house', 'has_pool', 'area_units', 'high_latitude']))\n",
    "train_standarized.head()"
   ]
  },
  {
   "cell_type": "code",
   "execution_count": 4,
   "metadata": {},
   "outputs": [],
   "source": [
    "test_set : pd.DataFrame = raw_data.casas_test\n",
    "test_set = prepro.convert_area_units(test_set, area_unit='m2')\n",
    "test_set = prepro.remove_na_rows(test_set)\n",
    "test_set = prepro.correct_data_types(test_set)\n",
    "test_set = prepro.standarize_numeric_columns(test_set, excluded_columns=set(['area_units', 'is_house', 'has_house']))\n",
    "# test_set = test_set.drop(columns=['area_units'])"
   ]
  },
  {
   "cell_type": "code",
   "execution_count": 5,
   "metadata": {},
   "outputs": [
    {
     "name": "stdout",
     "output_type": "stream",
     "text": [
      "<class 'pandas.core.frame.DataFrame'>\n",
      "Index: 81 entries, 0 to 99\n",
      "Data columns (total 9 columns):\n",
      " #   Column          Non-Null Count  Dtype  \n",
      "---  ------          --------------  -----  \n",
      " 0   area            81 non-null     Float64\n",
      " 1   is_house        81 non-null     bool   \n",
      " 2   has_pool        81 non-null     float64\n",
      " 3   age             81 non-null     Float64\n",
      " 4   price           81 non-null     Float64\n",
      " 5   rooms           81 non-null     Float64\n",
      " 6   high_latitude   81 non-null     bool   \n",
      " 7   rooms_per_area  81 non-null     Float64\n",
      " 8   log_area        81 non-null     Float64\n",
      "dtypes: Float64(6), bool(2), float64(1)\n",
      "memory usage: 5.7 KB\n"
     ]
    },
    {
     "name": "stderr",
     "output_type": "stream",
     "text": [
      "/usr/local/lib/python3.12/dist-packages/pandas/core/arrays/masked.py:672: RuntimeWarning: invalid value encountered in log\n",
      "  result = getattr(ufunc, method)(*inputs2, **kwargs)\n"
     ]
    }
   ],
   "source": [
    "test_set['high_latitude'] = np.where(test_set['lat'] > 0, True, False)\n",
    "test_set['rooms_per_area'] = test_set['rooms'] / test_set['area']\n",
    "test_set['log_area'] = np.log(test_set['area'])\n",
    "test_set = test_set.drop(columns=['lon', 'lat', 'area_units'])\n",
    "test_set.info()"
   ]
  },
  {
   "cell_type": "code",
   "execution_count": 6,
   "metadata": {},
   "outputs": [
    {
     "name": "stdout",
     "output_type": "stream",
     "text": [
      "nan\n"
     ]
    }
   ],
   "source": [
    "lin : LinealReg = LinealReg(train_standarized.drop(columns='price').to_numpy(), train_standarized['price'].to_numpy(), L2=3)\n",
    "lin.fit_pseudo_inverse()\n",
    "print(lin.error_cuadratico_medio(validation_set_x=test_set.drop(columns=['price']).to_numpy(), validation_set_y=test_set['price'].to_numpy()))"
   ]
  }
 ],
 "metadata": {
  "kernelspec": {
   "display_name": "usr",
   "language": "python",
   "name": "python3"
  },
  "language_info": {
   "codemirror_mode": {
    "name": "ipython",
    "version": 3
   },
   "file_extension": ".py",
   "mimetype": "text/x-python",
   "name": "python",
   "nbconvert_exporter": "python",
   "pygments_lexer": "ipython3",
   "version": "3.12.3"
  }
 },
 "nbformat": 4,
 "nbformat_minor": 2
}
