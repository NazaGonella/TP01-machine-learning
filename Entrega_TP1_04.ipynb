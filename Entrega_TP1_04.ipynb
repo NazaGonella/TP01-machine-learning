{
 "cells": [
  {
   "cell_type": "code",
   "execution_count": 1,
   "metadata": {},
   "outputs": [],
   "source": [
    "import pandas as pd\n",
    "import numpy as np\n",
    "import matplotlib.pyplot as plt\n",
    "import seaborn as sb\n",
    "import src.preprocessing as prepro\n",
    "import src.data_handler as data_handler\n",
    "from src.models import LinealReg\n",
    "\n",
    "raw_data : data_handler.RawData = data_handler.RawData()"
   ]
  },
  {
   "cell_type": "code",
   "execution_count": 2,
   "metadata": {},
   "outputs": [],
   "source": [
    "processed_data : data_handler.ProcessedData = data_handler.ProcessedData(correct_data_types=True, standarize=False, area_units='m2')\n",
    "processed_data.save_data()\n",
    "processed_data_nona : data_handler.ProcessedData = data_handler.ProcessedData(correct_data_types=True, standarize=False, area_units='m2', remove_na_rows=True)\n",
    "processed_data_nona.save_data(ext='nona')\n",
    "processed_data_standarized : data_handler.ProcessedData = data_handler.ProcessedData(correct_data_types=True, standarize=True, area_units='m2')\n",
    "processed_data_standarized.save_data(ext='standarized')\n",
    "processed_data_standarized_nona : data_handler.ProcessedData = data_handler.ProcessedData(correct_data_types=True, standarize=True, area_units='m2', remove_na_rows=True) # Contiene los datos estandarizados, con los tipos corregidos, y unidades unificadas.\n",
    "processed_data_standarized_nona.save_data(ext='standarized_nona')"
   ]
  },
  {
   "cell_type": "markdown",
   "metadata": {},
   "source": [
    "4 ) Hago feature engineering a partir de un dataframe con datos procesados no estandarizados"
   ]
  },
  {
   "cell_type": "markdown",
   "metadata": {},
   "source": [
    "4.1 )"
   ]
  },
  {
   "cell_type": "markdown",
   "metadata": {},
   "source": [
    "Relleno los datos faltantes con el promedio de los datos"
   ]
  },
  {
   "cell_type": "code",
   "execution_count": 3,
   "metadata": {},
   "outputs": [],
   "source": [
    "engineered_data : data_handler.ProcessedData = data_handler.ProcessedData(correct_data_types=False, standarize=False, area_units='m2')\n",
    "engineered_data.fill_missing_values(method='mean')"
   ]
  },
  {
   "cell_type": "markdown",
   "metadata": {},
   "source": [
    "Nuevas features <br><br>\n",
    "'high_latitude': Basada en 'lat' y 'lon', reemplazo ambas features con 1 en caso de que la latitud sea alta, y 0 en caso de que la latitud sea baja.<br>\n",
    "'rooms_per_area': rooms / area<br>\n",
    "'log_area': log(area)"
   ]
  },
  {
   "cell_type": "markdown",
   "metadata": {},
   "source": [
    "(Vimos en el punto 1 que siempre que la latitud es alta la longitud es baja)."
   ]
  },
  {
   "cell_type": "code",
   "execution_count": 4,
   "metadata": {},
   "outputs": [
    {
     "name": "stdout",
     "output_type": "stream",
     "text": [
      "<class 'pandas.core.frame.DataFrame'>\n",
      "RangeIndex: 900 entries, 0 to 899\n",
      "Data columns (total 9 columns):\n",
      " #   Column          Non-Null Count  Dtype  \n",
      "---  ------          --------------  -----  \n",
      " 0   area            900 non-null    float64\n",
      " 1   is_house        900 non-null    int64  \n",
      " 2   has_pool        900 non-null    int64  \n",
      " 3   age             900 non-null    float64\n",
      " 4   price           900 non-null    float64\n",
      " 5   rooms           900 non-null    float64\n",
      " 6   high_latitude   900 non-null    bool   \n",
      " 7   rooms_per_area  900 non-null    float64\n",
      " 8   log_area        900 non-null    float64\n",
      "dtypes: bool(1), float64(6), int64(2)\n",
      "memory usage: 57.3 KB\n"
     ]
    }
   ],
   "source": [
    "engineered_data.casas_dev['high_latitude'] = np.where(engineered_data.casas_dev['lat'] > 0, True, False)\n",
    "engineered_data.casas_dev['rooms_per_area'] = engineered_data.casas_dev['rooms'] / engineered_data.casas_dev['area']\n",
    "engineered_data.casas_dev['log_area'] = np.log(engineered_data.casas_dev['area'])\n",
    "engineered_data.casas_dev = engineered_data.casas_dev.drop(columns=['lon', 'lat', 'area_units'])\n",
    "engineered_data.casas_dev.info()"
   ]
  },
  {
   "cell_type": "code",
   "execution_count": 5,
   "metadata": {},
   "outputs": [],
   "source": [
    "train : pd.DataFrame\n",
    "validation : pd.DataFrame\n",
    "train, validation = data_handler.get_train_and_validation_sets(engineered_data.casas_dev, train_fraction=0.8, seed=42)\n",
    "train_standarized : pd.DataFrame = prepro.standarize_numeric_columns(train, excluded_columns=set(['lat', 'lon', 'is_house', 'has_pool', 'area_units', 'high_latitude']))\n",
    "validation_standarized : pd.DataFrame = prepro.standarize_numeric_columns(validation, excluded_columns=set(['lat', 'lon', 'is_house', 'has_pool', 'area_units', 'high_latitude']))"
   ]
  },
  {
   "cell_type": "markdown",
   "metadata": {},
   "source": [
    "4.2 )"
   ]
  },
  {
   "cell_type": "code",
   "execution_count": 6,
   "metadata": {},
   "outputs": [
    {
     "name": "stdout",
     "output_type": "stream",
     "text": [
      " \"area\"                                                                      |   Error Cuadrático Medio: 0.875800 |   Error Least Square: 630.575901\n",
      " \"rooms\"                                                                     |   Error Cuadrático Medio: 0.884956 |   Error Least Square: 637.168002\n",
      " \"age\"                                                                       |   Error Cuadrático Medio: 0.969342 |   Error Least Square: 697.926049\n",
      " \"high_latitude\"                                                             |   Error Cuadrático Medio: 0.325203 |   Error Least Square: 234.146027\n",
      " \"rooms_per_area\"                                                            |   Error Cuadrático Medio: 0.998547 |   Error Least Square: 718.954059\n",
      " \"log_area\"                                                                  |   Error Cuadrático Medio: 0.878543 |   Error Least Square: 632.551070\n",
      " \"['area', 'high_latitude']\"                                                 |   Error Cuadrático Medio: 0.137116 |   Error Least Square: 98.723250\n",
      " \"['log_area', 'high_latitude']\"                                             |   Error Cuadrático Medio: 0.138159 |   Error Least Square: 99.474643\n",
      " \"['rooms_per_area', 'high_latitude']\"                                       |   Error Cuadrático Medio: 0.320815 |   Error Least Square: 230.986674\n",
      " \"['area', 'rooms', 'age', 'high_latitude', 'rooms_per_area', 'log_area']\"   |   Error Cuadrático Medio: 0.133372 |   Error Least Square: 96.027952\n"
     ]
    }
   ],
   "source": [
    "lin : LinealReg\n",
    "for caracts in ['area',\n",
    "                'rooms', \n",
    "               'age', \n",
    "               'high_latitude', \n",
    "               'rooms_per_area', \n",
    "               'log_area',\n",
    "               ['area', 'high_latitude'],\n",
    "               ['log_area', 'high_latitude'],\n",
    "               ['rooms_per_area', 'high_latitude'],\n",
    "               ['area', 'rooms', 'age', 'high_latitude', 'rooms_per_area', 'log_area'],\n",
    "               ]:\n",
    "    lin : LinealReg = LinealReg(train_standarized[caracts].to_numpy(), train_standarized['price'].to_numpy())\n",
    "    lin.fit_pseudo_inverse()\n",
    "    print(f\" {f\"\\\"{caracts}\\\"\"\"\":75}\", f\"|   Error Cuadrático Medio: {lin.error_cuadratico_medio():3f}\", f\"|   Error Least Square: {lin.error_least_squares_function():3f}\")"
   ]
  },
  {
   "cell_type": "markdown",
   "metadata": {},
   "source": [
    "4.3 )"
   ]
  },
  {
   "cell_type": "code",
   "execution_count": 7,
   "metadata": {},
   "outputs": [
    {
     "data": {
      "text/html": [
       "<div>\n",
       "<style scoped>\n",
       "    .dataframe tbody tr th:only-of-type {\n",
       "        vertical-align: middle;\n",
       "    }\n",
       "\n",
       "    .dataframe tbody tr th {\n",
       "        vertical-align: top;\n",
       "    }\n",
       "\n",
       "    .dataframe thead th {\n",
       "        text-align: right;\n",
       "    }\n",
       "</style>\n",
       "<table border=\"1\" class=\"dataframe\">\n",
       "  <thead>\n",
       "    <tr style=\"text-align: right;\">\n",
       "      <th></th>\n",
       "      <th>area</th>\n",
       "      <th>is_house</th>\n",
       "      <th>has_pool</th>\n",
       "      <th>age</th>\n",
       "      <th>price</th>\n",
       "      <th>rooms</th>\n",
       "      <th>high_latitude</th>\n",
       "      <th>rooms_per_area</th>\n",
       "      <th>log_area</th>\n",
       "      <th>area^2</th>\n",
       "      <th>...</th>\n",
       "      <th>area^60</th>\n",
       "      <th>age^60</th>\n",
       "      <th>rooms^60</th>\n",
       "      <th>rooms_per_area^60</th>\n",
       "      <th>log_area^60</th>\n",
       "      <th>area^61</th>\n",
       "      <th>age^61</th>\n",
       "      <th>rooms^61</th>\n",
       "      <th>rooms_per_area^61</th>\n",
       "      <th>log_area^61</th>\n",
       "    </tr>\n",
       "  </thead>\n",
       "  <tbody>\n",
       "    <tr>\n",
       "      <th>0</th>\n",
       "      <td>59.0</td>\n",
       "      <td>1</td>\n",
       "      <td>0</td>\n",
       "      <td>18.0</td>\n",
       "      <td>546.0</td>\n",
       "      <td>2.0</td>\n",
       "      <td>True</td>\n",
       "      <td>0.033898</td>\n",
       "      <td>4.077537</td>\n",
       "      <td>3481.0</td>\n",
       "      <td>...</td>\n",
       "      <td>1.782874e+106</td>\n",
       "      <td>2.071812e+75</td>\n",
       "      <td>1.152922e+18</td>\n",
       "      <td>6.466645e-89</td>\n",
       "      <td>4.206079e+36</td>\n",
       "      <td>1.051896e+108</td>\n",
       "      <td>3.729261e+76</td>\n",
       "      <td>2.305843e+18</td>\n",
       "      <td>2.192083e-90</td>\n",
       "      <td>1.715045e+37</td>\n",
       "    </tr>\n",
       "    <tr>\n",
       "      <th>1</th>\n",
       "      <td>102.0</td>\n",
       "      <td>0</td>\n",
       "      <td>0</td>\n",
       "      <td>9.0</td>\n",
       "      <td>759.0</td>\n",
       "      <td>3.0</td>\n",
       "      <td>True</td>\n",
       "      <td>0.029412</td>\n",
       "      <td>4.624973</td>\n",
       "      <td>10404.0</td>\n",
       "      <td>...</td>\n",
       "      <td>3.281031e+120</td>\n",
       "      <td>1.797010e+57</td>\n",
       "      <td>4.239116e+28</td>\n",
       "      <td>1.292007e-92</td>\n",
       "      <td>8.064010e+39</td>\n",
       "      <td>3.346651e+122</td>\n",
       "      <td>1.617309e+58</td>\n",
       "      <td>1.271735e+29</td>\n",
       "      <td>3.800022e-94</td>\n",
       "      <td>3.729583e+40</td>\n",
       "    </tr>\n",
       "    <tr>\n",
       "      <th>2</th>\n",
       "      <td>62.0</td>\n",
       "      <td>0</td>\n",
       "      <td>0</td>\n",
       "      <td>7.0</td>\n",
       "      <td>464.0</td>\n",
       "      <td>2.0</td>\n",
       "      <td>True</td>\n",
       "      <td>0.032258</td>\n",
       "      <td>4.127134</td>\n",
       "      <td>3844.0</td>\n",
       "      <td>...</td>\n",
       "      <td>3.495436e+107</td>\n",
       "      <td>5.080219e+50</td>\n",
       "      <td>1.152922e+18</td>\n",
       "      <td>3.298362e-90</td>\n",
       "      <td>8.687936e+36</td>\n",
       "      <td>2.167170e+109</td>\n",
       "      <td>3.556153e+51</td>\n",
       "      <td>2.305843e+18</td>\n",
       "      <td>1.063988e-91</td>\n",
       "      <td>3.585628e+37</td>\n",
       "    </tr>\n",
       "    <tr>\n",
       "      <th>3</th>\n",
       "      <td>127.0</td>\n",
       "      <td>1</td>\n",
       "      <td>1</td>\n",
       "      <td>16.0</td>\n",
       "      <td>251.0</td>\n",
       "      <td>4.0</td>\n",
       "      <td>False</td>\n",
       "      <td>0.031496</td>\n",
       "      <td>4.844187</td>\n",
       "      <td>16129.0</td>\n",
       "      <td>...</td>\n",
       "      <td>1.691310e+126</td>\n",
       "      <td>1.766847e+72</td>\n",
       "      <td>1.329228e+36</td>\n",
       "      <td>7.859162e-91</td>\n",
       "      <td>1.297940e+41</td>\n",
       "      <td>2.147964e+128</td>\n",
       "      <td>2.826955e+73</td>\n",
       "      <td>5.316912e+36</td>\n",
       "      <td>2.475327e-92</td>\n",
       "      <td>6.287462e+41</td>\n",
       "    </tr>\n",
       "    <tr>\n",
       "      <th>4</th>\n",
       "      <td>128.0</td>\n",
       "      <td>0</td>\n",
       "      <td>0</td>\n",
       "      <td>8.0</td>\n",
       "      <td>963.0</td>\n",
       "      <td>4.0</td>\n",
       "      <td>True</td>\n",
       "      <td>0.031250</td>\n",
       "      <td>4.852030</td>\n",
       "      <td>16384.0</td>\n",
       "      <td>...</td>\n",
       "      <td>2.707685e+126</td>\n",
       "      <td>1.532496e+54</td>\n",
       "      <td>1.329228e+36</td>\n",
       "      <td>4.909093e-91</td>\n",
       "      <td>1.430244e+41</td>\n",
       "      <td>3.465837e+128</td>\n",
       "      <td>1.225996e+55</td>\n",
       "      <td>5.316912e+36</td>\n",
       "      <td>1.534092e-92</td>\n",
       "      <td>6.939586e+41</td>\n",
       "    </tr>\n",
       "  </tbody>\n",
       "</table>\n",
       "<p>5 rows × 309 columns</p>\n",
       "</div>"
      ],
      "text/plain": [
       "    area  is_house  has_pool   age  price  rooms  high_latitude  \\\n",
       "0   59.0         1         0  18.0  546.0    2.0           True   \n",
       "1  102.0         0         0   9.0  759.0    3.0           True   \n",
       "2   62.0         0         0   7.0  464.0    2.0           True   \n",
       "3  127.0         1         1  16.0  251.0    4.0          False   \n",
       "4  128.0         0         0   8.0  963.0    4.0           True   \n",
       "\n",
       "   rooms_per_area  log_area   area^2  ...        area^60        age^60  \\\n",
       "0        0.033898  4.077537   3481.0  ...  1.782874e+106  2.071812e+75   \n",
       "1        0.029412  4.624973  10404.0  ...  3.281031e+120  1.797010e+57   \n",
       "2        0.032258  4.127134   3844.0  ...  3.495436e+107  5.080219e+50   \n",
       "3        0.031496  4.844187  16129.0  ...  1.691310e+126  1.766847e+72   \n",
       "4        0.031250  4.852030  16384.0  ...  2.707685e+126  1.532496e+54   \n",
       "\n",
       "       rooms^60  rooms_per_area^60   log_area^60        area^61        age^61  \\\n",
       "0  1.152922e+18       6.466645e-89  4.206079e+36  1.051896e+108  3.729261e+76   \n",
       "1  4.239116e+28       1.292007e-92  8.064010e+39  3.346651e+122  1.617309e+58   \n",
       "2  1.152922e+18       3.298362e-90  8.687936e+36  2.167170e+109  3.556153e+51   \n",
       "3  1.329228e+36       7.859162e-91  1.297940e+41  2.147964e+128  2.826955e+73   \n",
       "4  1.329228e+36       4.909093e-91  1.430244e+41  3.465837e+128  1.225996e+55   \n",
       "\n",
       "       rooms^61  rooms_per_area^61   log_area^61  \n",
       "0  2.305843e+18       2.192083e-90  1.715045e+37  \n",
       "1  1.271735e+29       3.800022e-94  3.729583e+40  \n",
       "2  2.305843e+18       1.063988e-91  3.585628e+37  \n",
       "3  5.316912e+36       2.475327e-92  6.287462e+41  \n",
       "4  5.316912e+36       1.534092e-92  6.939586e+41  \n",
       "\n",
       "[5 rows x 309 columns]"
      ]
     },
     "execution_count": 7,
     "metadata": {},
     "output_type": "execute_result"
    }
   ],
   "source": [
    "new_columns : dict[str, float] = {}\n",
    "numeric_features = ['area', 'rooms', 'age', 'high_latitude', 'rooms_per_area', 'log_area']\n",
    "for i in range(2, 62):\n",
    "    numeric_features.append(f'area^{i}')\n",
    "    numeric_features.append(f'age^{i}')\n",
    "    numeric_features.append(f'rooms^{i}')\n",
    "    numeric_features.append(f'rooms_per_area^{i}')\n",
    "    numeric_features.append(f'log_area^{i}')\n",
    "    new_columns[f'area^{i}'] = engineered_data.casas_dev['area'] ** i\n",
    "    new_columns[f'age^{i}'] = engineered_data.casas_dev['age'] ** i\n",
    "    new_columns[f'rooms^{i}'] = engineered_data.casas_dev['rooms'] ** i\n",
    "    new_columns[f'rooms_per_area^{i}'] = engineered_data.casas_dev['rooms_per_area'] ** i\n",
    "    new_columns[f'log_area^{i}'] = engineered_data.casas_dev['log_area'] ** i\n",
    "engineered_data.casas_dev = pd.concat([engineered_data.casas_dev, pd.DataFrame(new_columns)], axis=1)\n",
    "engineered_data.casas_dev.head()"
   ]
  },
  {
   "cell_type": "code",
   "execution_count": 8,
   "metadata": {},
   "outputs": [],
   "source": [
    "train : pd.DataFrame\n",
    "validation : pd.DataFrame\n",
    "train, validation = data_handler.get_train_and_validation_sets(engineered_data.casas_dev, train_fraction=0.8, seed=42)\n",
    "train_standarized : pd.DataFrame = prepro.standarize_numeric_columns(train, excluded_columns=set(['lat', 'lon', 'is_house', 'has_pool', 'area_units', 'high_latitude']))\n",
    "validation_standarized : pd.DataFrame = prepro.standarize_numeric_columns(validation, excluded_columns=set(['lat', 'lon', 'is_house', 'has_pool', 'area_units', 'high_latitude']))"
   ]
  },
  {
   "cell_type": "code",
   "execution_count": null,
   "metadata": {},
   "outputs": [
    {
     "name": "stdout",
     "output_type": "stream",
     "text": [
      "PSEUDOINVERSA\n",
      "  ECM (train set)      :  163.62337658262462\n",
      "  ECM (validation set) :  1322793643410.2915\n",
      "GRADIENTE DESCENDENTE\n",
      "  ECM (train set)      :  0.11797847775720835\n",
      "  ECM (validation set) :  0.12828815271897054\n"
     ]
    }
   ],
   "source": [
    "lin : LinealReg = LinealReg(train_standarized.drop(columns='price').to_numpy(), train_standarized['price'].to_numpy())\n",
    "lin.fit_pseudo_inverse()\n",
    "print(\"PSEUDOINVERSA\")\n",
    "print(\"  ECM (train set)      : \", lin.error_cuadratico_medio())\n",
    "print(\"  ECM (validation set) : \", lin.error_cuadratico_medio(validation_set_x=validation_standarized.drop(columns=['price']).to_numpy(), validation_set_y=validation_standarized['price'].to_numpy()))\n",
    "lin : LinealReg = LinealReg(train_standarized.drop(columns='price').to_numpy(), train_standarized['price'].to_numpy())\n",
    "lin.fit_gradient_descent(step_size=0.000005, tolerance=-1, max_number_of_steps=10000)\n",
    "print(\"GRADIENTE DESCENDENTE\")\n",
    "print(\"  ECM (train set)      : \", lin.error_cuadratico_medio())\n",
    "print(\"  ECM (validation set) : \", lin.error_cuadratico_medio(validation_set_x=validation_standarized.drop(columns=['price']).to_numpy(), validation_set_y=validation_standarized['price'].to_numpy()))"
   ]
  },
  {
   "cell_type": "markdown",
   "metadata": {},
   "source": [
    "Los resultados anteriores sugieren que el modelo de la pseudoinversa produce overfitting al haber una gran discrepancia entre el set de datos de entrenamiento y el set de datos de validación.<br>\n",
    "En el caso del modelo que utiliza gradiente descendiente se logra una mejor abstracción de los datos con los parámetros utilizados, pero a mayor costo algorítmico."
   ]
  }
 ],
 "metadata": {
  "kernelspec": {
   "display_name": "usr",
   "language": "python",
   "name": "python3"
  },
  "language_info": {
   "codemirror_mode": {
    "name": "ipython",
    "version": 3
   },
   "file_extension": ".py",
   "mimetype": "text/x-python",
   "name": "python",
   "nbconvert_exporter": "python",
   "pygments_lexer": "ipython3",
   "version": "3.12.3"
  }
 },
 "nbformat": 4,
 "nbformat_minor": 2
}
