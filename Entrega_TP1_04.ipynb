{
 "cells": [
  {
   "cell_type": "code",
   "execution_count": 1,
   "metadata": {},
   "outputs": [],
   "source": [
    "import pandas as pd\n",
    "import numpy as np\n",
    "import matplotlib.pyplot as plt\n",
    "import seaborn as sb\n",
    "import src.preprocessing as prepro\n",
    "import src.data_handler as data_handler\n",
    "from src.models import LinealReg\n",
    "\n",
    "raw_data : data_handler.RawData = data_handler.RawData()"
   ]
  },
  {
   "cell_type": "code",
   "execution_count": 2,
   "metadata": {},
   "outputs": [],
   "source": [
    "processed_data : data_handler.ProcessedData = data_handler.ProcessedData(correct_data_types=True, standarize=False, area_units='m2')\n",
    "processed_data.save_data()\n",
    "processed_data_nona : data_handler.ProcessedData = data_handler.ProcessedData(correct_data_types=True, standarize=False, area_units='m2', remove_na_rows=True)\n",
    "processed_data_nona.save_data(ext='nona')\n",
    "processed_data_standarized : data_handler.ProcessedData = data_handler.ProcessedData(correct_data_types=True, standarize=True, area_units='m2')\n",
    "processed_data_standarized.save_data(ext='standarized')\n",
    "processed_data_standarized_nona : data_handler.ProcessedData = data_handler.ProcessedData(correct_data_types=True, standarize=True, area_units='m2', remove_na_rows=True) # Contiene los datos estandarizados, con los tipos corregidos, y unidades unificadas.\n",
    "processed_data_standarized_nona.save_data(ext='standarized_nona')"
   ]
  },
  {
   "cell_type": "markdown",
   "metadata": {},
   "source": [
    "4 ) Hago feature engineering a partir de un dataframe con datos procesados no estandarizados"
   ]
  },
  {
   "cell_type": "markdown",
   "metadata": {},
   "source": [
    "4.1 )"
   ]
  },
  {
   "cell_type": "markdown",
   "metadata": {},
   "source": [
    "Relleno los datos faltantes con el promedio de los datos"
   ]
  },
  {
   "cell_type": "code",
   "execution_count": 3,
   "metadata": {},
   "outputs": [],
   "source": [
    "engineered_data : data_handler.ProcessedData = data_handler.ProcessedData(correct_data_types=False, standarize=False, area_units='m2')\n",
    "engineered_data.fill_missing_values(method='mean')"
   ]
  },
  {
   "cell_type": "markdown",
   "metadata": {},
   "source": [
    "Nueva feature 'high_latitude': Basada en 'lat' y 'lon', reemplazo ambas features con 1 en caso de que la latitud sea alta, y 0 en caso de que la latitud sea baja."
   ]
  },
  {
   "cell_type": "markdown",
   "metadata": {},
   "source": [
    "(Vimos en el punto 1 que siempre que la latitud es alta la longitud es baja)."
   ]
  },
  {
   "cell_type": "code",
   "execution_count": 4,
   "metadata": {},
   "outputs": [
    {
     "name": "stdout",
     "output_type": "stream",
     "text": [
      "<class 'pandas.core.frame.DataFrame'>\n",
      "RangeIndex: 900 entries, 0 to 899\n",
      "Data columns (total 8 columns):\n",
      " #   Column         Non-Null Count  Dtype  \n",
      "---  ------         --------------  -----  \n",
      " 0   area           900 non-null    float64\n",
      " 1   area_units     900 non-null    object \n",
      " 2   is_house       900 non-null    int64  \n",
      " 3   has_pool       900 non-null    int64  \n",
      " 4   age            900 non-null    float64\n",
      " 5   price          900 non-null    float64\n",
      " 6   rooms          900 non-null    float64\n",
      " 7   high_latitude  900 non-null    bool   \n",
      "dtypes: bool(1), float64(4), int64(2), object(1)\n",
      "memory usage: 50.2+ KB\n"
     ]
    }
   ],
   "source": [
    "engineered_data.casas_dev['high_latitude'] = np.where(engineered_data.casas_dev['lat'] > 0, True, False)\n",
    "engineered_data.casas_dev = engineered_data.casas_dev.drop(columns=['lon', 'lat'])\n",
    "engineered_data.casas_dev.info()"
   ]
  },
  {
   "cell_type": "code",
   "execution_count": 5,
   "metadata": {},
   "outputs": [],
   "source": [
    "train : pd.DataFrame\n",
    "validation : pd.DataFrame\n",
    "train, validation = data_handler.get_train_and_validation_sets(engineered_data.casas_dev, train_fraction=0.8, seed=42)\n",
    "train_standarized : pd.DataFrame = prepro.standarize_numeric_columns(train, excluded_columns=set(['lat', 'lon']))\n",
    "validation_standarized : pd.DataFrame = prepro.standarize_numeric_columns(train, excluded_columns=set(['lat', 'lon']))\n",
    "other_features = ['area', 'price', 'age', 'rooms', 'high_latitude']\n",
    "train_means : dict[str, float] = {f : train[f].mean() for f in other_features}\n",
    "train_stds : dict[str, float] = {f : train[f].std() for f in other_features}\n",
    "validation_means : dict[str, float] = {f : validation[f].mean() for f in other_features}\n",
    "validation_stds : dict[str, float] = {f : validation[f].std() for f in other_features}"
   ]
  },
  {
   "cell_type": "markdown",
   "metadata": {},
   "source": [
    "4.2 )"
   ]
  },
  {
   "cell_type": "code",
   "execution_count": 6,
   "metadata": {},
   "outputs": [
    {
     "name": "stdout",
     "output_type": "stream",
     "text": [
      "0.8734069833552368\n",
      " \"area\", \"rooms\"         |   Error Cuadrático Medio: 0.873407 |   Error Least Square: 628.853028\n",
      "0.8477089758817278\n",
      " \"area\", \"age\"           |   Error Cuadrático Medio: 0.847709 |   Error Least Square: 610.350463\n",
      "0.1371156243122655\n",
      " \"area\", \"high_latitude\" |   Error Cuadrático Medio: 0.137116 |   Error Least Square: 98.723250\n"
     ]
    }
   ],
   "source": [
    "lin : LinealReg\n",
    "for caract in ['rooms', 'age', 'high_latitude']:\n",
    "    lin : LinealReg = LinealReg(train_standarized[['area', caract]].to_numpy(), train_standarized['price'].to_numpy())\n",
    "    lin.fit_pseudo_inverse()\n",
    "    print(f\" \\\"area\\\", {f\"\\\"{caract}\\\"\":15}\", f\"|   Error Cuadrático Medio: {lin.error_cuadratico_medio():3f}\", f\"|   Error Least Square: {lin.error_least_squares_function():3f}\")\n"
   ]
  },
  {
   "cell_type": "code",
   "execution_count": 7,
   "metadata": {},
   "outputs": [
    {
     "data": {
      "text/html": [
       "<div>\n",
       "<style scoped>\n",
       "    .dataframe tbody tr th:only-of-type {\n",
       "        vertical-align: middle;\n",
       "    }\n",
       "\n",
       "    .dataframe tbody tr th {\n",
       "        vertical-align: top;\n",
       "    }\n",
       "\n",
       "    .dataframe thead th {\n",
       "        text-align: right;\n",
       "    }\n",
       "</style>\n",
       "<table border=\"1\" class=\"dataframe\">\n",
       "  <thead>\n",
       "    <tr style=\"text-align: right;\">\n",
       "      <th></th>\n",
       "      <th>area</th>\n",
       "      <th>area_units</th>\n",
       "      <th>is_house</th>\n",
       "      <th>has_pool</th>\n",
       "      <th>age</th>\n",
       "      <th>price</th>\n",
       "      <th>rooms</th>\n",
       "      <th>high_latitude</th>\n",
       "      <th>area^2</th>\n",
       "      <th>age^2</th>\n",
       "      <th>...</th>\n",
       "      <th>rooms^98</th>\n",
       "      <th>area^99</th>\n",
       "      <th>age^99</th>\n",
       "      <th>rooms^99</th>\n",
       "      <th>area^100</th>\n",
       "      <th>age^100</th>\n",
       "      <th>rooms^100</th>\n",
       "      <th>area^101</th>\n",
       "      <th>age^101</th>\n",
       "      <th>rooms^101</th>\n",
       "    </tr>\n",
       "  </thead>\n",
       "  <tbody>\n",
       "    <tr>\n",
       "      <th>0</th>\n",
       "      <td>59.0</td>\n",
       "      <td>m2</td>\n",
       "      <td>1</td>\n",
       "      <td>0</td>\n",
       "      <td>18.0</td>\n",
       "      <td>546.0</td>\n",
       "      <td>2.0</td>\n",
       "      <td>True</td>\n",
       "      <td>3481.0</td>\n",
       "      <td>324.0</td>\n",
       "      <td>...</td>\n",
       "      <td>3.169127e+29</td>\n",
       "      <td>2.062287e+175</td>\n",
       "      <td>1.870587e+124</td>\n",
       "      <td>6.338253e+29</td>\n",
       "      <td>1.216749e+177</td>\n",
       "      <td>3.367057e+125</td>\n",
       "      <td>1.267651e+30</td>\n",
       "      <td>7.178822e+178</td>\n",
       "      <td>6.060703e+126</td>\n",
       "      <td>2.535301e+30</td>\n",
       "    </tr>\n",
       "    <tr>\n",
       "      <th>1</th>\n",
       "      <td>102.0</td>\n",
       "      <td>m2</td>\n",
       "      <td>0</td>\n",
       "      <td>0</td>\n",
       "      <td>9.0</td>\n",
       "      <td>759.0</td>\n",
       "      <td>3.0</td>\n",
       "      <td>True</td>\n",
       "      <td>10404.0</td>\n",
       "      <td>81.0</td>\n",
       "      <td>...</td>\n",
       "      <td>5.726417e+46</td>\n",
       "      <td>7.102594e+198</td>\n",
       "      <td>2.951267e+94</td>\n",
       "      <td>1.717925e+47</td>\n",
       "      <td>7.244646e+200</td>\n",
       "      <td>2.656140e+95</td>\n",
       "      <td>5.153775e+47</td>\n",
       "      <td>7.389539e+202</td>\n",
       "      <td>2.390526e+96</td>\n",
       "      <td>1.546133e+48</td>\n",
       "    </tr>\n",
       "    <tr>\n",
       "      <th>2</th>\n",
       "      <td>62.0</td>\n",
       "      <td>m2</td>\n",
       "      <td>0</td>\n",
       "      <td>0</td>\n",
       "      <td>7.0</td>\n",
       "      <td>464.0</td>\n",
       "      <td>2.0</td>\n",
       "      <td>True</td>\n",
       "      <td>3844.0</td>\n",
       "      <td>49.0</td>\n",
       "      <td>...</td>\n",
       "      <td>3.169127e+29</td>\n",
       "      <td>2.797546e+177</td>\n",
       "      <td>4.620681e+83</td>\n",
       "      <td>6.338253e+29</td>\n",
       "      <td>1.734479e+179</td>\n",
       "      <td>3.234477e+84</td>\n",
       "      <td>1.267651e+30</td>\n",
       "      <td>1.075377e+181</td>\n",
       "      <td>2.264134e+85</td>\n",
       "      <td>2.535301e+30</td>\n",
       "    </tr>\n",
       "    <tr>\n",
       "      <th>3</th>\n",
       "      <td>127.0</td>\n",
       "      <td>m2</td>\n",
       "      <td>1</td>\n",
       "      <td>1</td>\n",
       "      <td>16.0</td>\n",
       "      <td>251.0</td>\n",
       "      <td>4.0</td>\n",
       "      <td>False</td>\n",
       "      <td>16129.0</td>\n",
       "      <td>256.0</td>\n",
       "      <td>...</td>\n",
       "      <td>1.004336e+59</td>\n",
       "      <td>1.890464e+208</td>\n",
       "      <td>1.613906e+119</td>\n",
       "      <td>4.017345e+59</td>\n",
       "      <td>2.400889e+210</td>\n",
       "      <td>2.582250e+120</td>\n",
       "      <td>1.606938e+60</td>\n",
       "      <td>3.049129e+212</td>\n",
       "      <td>4.131600e+121</td>\n",
       "      <td>6.427752e+60</td>\n",
       "    </tr>\n",
       "    <tr>\n",
       "      <th>4</th>\n",
       "      <td>128.0</td>\n",
       "      <td>m2</td>\n",
       "      <td>0</td>\n",
       "      <td>0</td>\n",
       "      <td>8.0</td>\n",
       "      <td>963.0</td>\n",
       "      <td>4.0</td>\n",
       "      <td>True</td>\n",
       "      <td>16384.0</td>\n",
       "      <td>64.0</td>\n",
       "      <td>...</td>\n",
       "      <td>1.004336e+59</td>\n",
       "      <td>4.109481e+208</td>\n",
       "      <td>2.546295e+89</td>\n",
       "      <td>4.017345e+59</td>\n",
       "      <td>5.260136e+210</td>\n",
       "      <td>2.037036e+90</td>\n",
       "      <td>1.606938e+60</td>\n",
       "      <td>6.732974e+212</td>\n",
       "      <td>1.629629e+91</td>\n",
       "      <td>6.427752e+60</td>\n",
       "    </tr>\n",
       "  </tbody>\n",
       "</table>\n",
       "<p>5 rows × 308 columns</p>\n",
       "</div>"
      ],
      "text/plain": [
       "    area area_units  is_house  has_pool   age  price  rooms  high_latitude  \\\n",
       "0   59.0         m2         1         0  18.0  546.0    2.0           True   \n",
       "1  102.0         m2         0         0   9.0  759.0    3.0           True   \n",
       "2   62.0         m2         0         0   7.0  464.0    2.0           True   \n",
       "3  127.0         m2         1         1  16.0  251.0    4.0          False   \n",
       "4  128.0         m2         0         0   8.0  963.0    4.0           True   \n",
       "\n",
       "    area^2  age^2  ...      rooms^98        area^99         age^99  \\\n",
       "0   3481.0  324.0  ...  3.169127e+29  2.062287e+175  1.870587e+124   \n",
       "1  10404.0   81.0  ...  5.726417e+46  7.102594e+198   2.951267e+94   \n",
       "2   3844.0   49.0  ...  3.169127e+29  2.797546e+177   4.620681e+83   \n",
       "3  16129.0  256.0  ...  1.004336e+59  1.890464e+208  1.613906e+119   \n",
       "4  16384.0   64.0  ...  1.004336e+59  4.109481e+208   2.546295e+89   \n",
       "\n",
       "       rooms^99       area^100        age^100     rooms^100       area^101  \\\n",
       "0  6.338253e+29  1.216749e+177  3.367057e+125  1.267651e+30  7.178822e+178   \n",
       "1  1.717925e+47  7.244646e+200   2.656140e+95  5.153775e+47  7.389539e+202   \n",
       "2  6.338253e+29  1.734479e+179   3.234477e+84  1.267651e+30  1.075377e+181   \n",
       "3  4.017345e+59  2.400889e+210  2.582250e+120  1.606938e+60  3.049129e+212   \n",
       "4  4.017345e+59  5.260136e+210   2.037036e+90  1.606938e+60  6.732974e+212   \n",
       "\n",
       "         age^101     rooms^101  \n",
       "0  6.060703e+126  2.535301e+30  \n",
       "1   2.390526e+96  1.546133e+48  \n",
       "2   2.264134e+85  2.535301e+30  \n",
       "3  4.131600e+121  6.427752e+60  \n",
       "4   1.629629e+91  6.427752e+60  \n",
       "\n",
       "[5 rows x 308 columns]"
      ]
     },
     "execution_count": 7,
     "metadata": {},
     "output_type": "execute_result"
    }
   ],
   "source": [
    "new_columns : set = {}\n",
    "for i in range(2, 102):\n",
    "    new_columns[f'area^{i}'] = engineered_data.casas_dev['area'] ** i\n",
    "    new_columns[f'age^{i}'] = engineered_data.casas_dev['age'] ** i\n",
    "    new_columns[f'rooms^{i}'] = engineered_data.casas_dev['rooms'] ** i\n",
    "engineered_data.casas_dev = pd.concat([engineered_data.casas_dev, pd.DataFrame(new_columns)], axis=1)\n",
    "engineered_data.casas_dev.head()"
   ]
  }
 ],
 "metadata": {
  "kernelspec": {
   "display_name": "usr",
   "language": "python",
   "name": "python3"
  },
  "language_info": {
   "codemirror_mode": {
    "name": "ipython",
    "version": 3
   },
   "file_extension": ".py",
   "mimetype": "text/x-python",
   "name": "python",
   "nbconvert_exporter": "python",
   "pygments_lexer": "ipython3",
   "version": "3.12.3"
  }
 },
 "nbformat": 4,
 "nbformat_minor": 2
}
