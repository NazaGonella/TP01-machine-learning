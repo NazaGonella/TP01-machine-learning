{
 "cells": [
  {
   "cell_type": "code",
   "execution_count": 1,
   "metadata": {},
   "outputs": [],
   "source": [
    "import pandas as pd\n",
    "import src.preprocessing as prepro\n",
    "import src.data_handler as data_handler\n",
    "\n",
    "raw_data : data_handler.RawData = data_handler.RawData()"
   ]
  },
  {
   "cell_type": "markdown",
   "metadata": {},
   "source": [
    "1.1) Utilizo la función de pandas info() para analizar los datos."
   ]
  },
  {
   "cell_type": "code",
   "execution_count": 2,
   "metadata": {},
   "outputs": [
    {
     "name": "stdout",
     "output_type": "stream",
     "text": [
      "\"casas_dev.csv\"\n",
      "\n",
      "<class 'pandas.core.frame.DataFrame'>\n",
      "RangeIndex: 900 entries, 0 to 899\n",
      "Data columns (total 9 columns):\n",
      " #   Column      Non-Null Count  Dtype  \n",
      "---  ------      --------------  -----  \n",
      " 0   area        900 non-null    float64\n",
      " 1   area_units  900 non-null    object \n",
      " 2   is_house    900 non-null    int64  \n",
      " 3   has_pool    900 non-null    int64  \n",
      " 4   age         770 non-null    float64\n",
      " 5   price       900 non-null    float64\n",
      " 6   lat         900 non-null    float64\n",
      " 7   lon         900 non-null    float64\n",
      " 8   rooms       828 non-null    float64\n",
      "dtypes: float64(6), int64(2), object(1)\n",
      "\n",
      "Cantidad de filas con uno o más elementos nulos:  189\n",
      "\n"
     ]
    }
   ],
   "source": [
    "# casas_dev.csv\n",
    "\n",
    "print(\"\\\"casas_dev.csv\\\"\\n\")\n",
    "raw_data.casas_dev.info(memory_usage=False)\n",
    "print(\"\")\n",
    "print(\"\")\n",
    "print(\"Cantidad de filas con uno o más elementos nulos: \", data_handler.get_null_rows(raw_data.casas_dev))\n",
    "print(\"\")"
   ]
  },
  {
   "cell_type": "code",
   "execution_count": 3,
   "metadata": {},
   "outputs": [],
   "source": [
    "#\n",
    "#   OBSERVACIONES / POSIBLES CAMBIOS -- 'casas_dev.csv'\n",
    "#\n",
    "#   Tipos de datos erróneos:\n",
    "#   * Las features 'is_house' y 'has_pool' podrían ser booleanos en lugar de enteros.\n",
    "#   * Las features 'age' y 'rooms' podrían ser enteros en lugar de floats.}\n",
    "#   Datos incompletos:\n",
    "#   * La feature 'age' presenta 130 datos nulos.   Podría completarse con el promedio del valor de la feature o remover las filas donde 'age' es nulo.\n",
    "#   * La feature 'rooms' presenta 72 datos nulos.  Podría completarse con el promedio del valor de la feature o remover las filas donde 'rooms' es nulo.\n",
    "#   * En total hay 189 filas con elementos nulos.\n",
    "#   Datos inconsistentes:\n",
    "#   * La feature 'area' contiene valores numéricos en dos unidades de medida diferentes. Sería conveniente convertir todos los valores a una unidad en común.\n",
    "#"
   ]
  },
  {
   "cell_type": "markdown",
   "metadata": {},
   "source": [
    "CORRECCIONES DATASET"
   ]
  },
  {
   "cell_type": "code",
   "execution_count": 4,
   "metadata": {},
   "outputs": [
    {
     "name": "stdout",
     "output_type": "stream",
     "text": [
      "<class 'pandas.core.frame.DataFrame'>\n",
      "RangeIndex: 900 entries, 0 to 899\n",
      "Data columns (total 9 columns):\n",
      " #   Column      Non-Null Count  Dtype  \n",
      "---  ------      --------------  -----  \n",
      " 0   area        900 non-null    Int64  \n",
      " 1   area_units  900 non-null    string \n",
      " 2   is_house    900 non-null    bool   \n",
      " 3   has_pool    900 non-null    bool   \n",
      " 4   age         770 non-null    Int64  \n",
      " 5   price       900 non-null    Int64  \n",
      " 6   lat         900 non-null    Float64\n",
      " 7   lon         900 non-null    Float64\n",
      " 8   rooms       828 non-null    Int64  \n",
      "dtypes: Float64(2), Int64(4), bool(2), string(1)"
     ]
    }
   ],
   "source": [
    "# casas_dev.csv\n",
    "\n",
    "updated_casas_dev : pd.DataFrame = prepro.correct_data_types(raw_data.casas_dev)\n",
    "updated_casas_dev : pd.DataFrame = prepro.convert_area_units(updated_casas_dev, 'm2')\n",
    "updated_casas_dev.info(memory_usage=False)"
   ]
  },
  {
   "cell_type": "code",
   "execution_count": 5,
   "metadata": {},
   "outputs": [
    {
     "data": {
      "text/html": [
       "<div>\n",
       "<style scoped>\n",
       "    .dataframe tbody tr th:only-of-type {\n",
       "        vertical-align: middle;\n",
       "    }\n",
       "\n",
       "    .dataframe tbody tr th {\n",
       "        vertical-align: top;\n",
       "    }\n",
       "\n",
       "    .dataframe thead th {\n",
       "        text-align: right;\n",
       "    }\n",
       "</style>\n",
       "<table border=\"1\" class=\"dataframe\">\n",
       "  <thead>\n",
       "    <tr style=\"text-align: right;\">\n",
       "      <th></th>\n",
       "      <th>area</th>\n",
       "      <th>area_units</th>\n",
       "      <th>is_house</th>\n",
       "      <th>has_pool</th>\n",
       "      <th>age</th>\n",
       "      <th>price</th>\n",
       "      <th>lat</th>\n",
       "      <th>lon</th>\n",
       "      <th>rooms</th>\n",
       "    </tr>\n",
       "  </thead>\n",
       "  <tbody>\n",
       "    <tr>\n",
       "      <th>0</th>\n",
       "      <td>-1.184423</td>\n",
       "      <td>m2</td>\n",
       "      <td>True</td>\n",
       "      <td>False</td>\n",
       "      <td>1.631468</td>\n",
       "      <td>0.229896</td>\n",
       "      <td>1.027922</td>\n",
       "      <td>-1.029048</td>\n",
       "      <td>-0.777928</td>\n",
       "    </tr>\n",
       "    <tr>\n",
       "      <th>1</th>\n",
       "      <td>0.238429</td>\n",
       "      <td>m2</td>\n",
       "      <td>False</td>\n",
       "      <td>False</td>\n",
       "      <td>-0.254135</td>\n",
       "      <td>0.843512</td>\n",
       "      <td>1.028819</td>\n",
       "      <td>-1.023917</td>\n",
       "      <td>0.276285</td>\n",
       "    </tr>\n",
       "    <tr>\n",
       "      <th>2</th>\n",
       "      <td>-1.085154</td>\n",
       "      <td>m2</td>\n",
       "      <td>False</td>\n",
       "      <td>False</td>\n",
       "      <td>-0.673157</td>\n",
       "      <td>-0.006331</td>\n",
       "      <td>1.027677</td>\n",
       "      <td>-1.031808</td>\n",
       "      <td>-0.777928</td>\n",
       "    </tr>\n",
       "    <tr>\n",
       "      <th>3</th>\n",
       "      <td>1.065668</td>\n",
       "      <td>m2</td>\n",
       "      <td>True</td>\n",
       "      <td>True</td>\n",
       "      <td>1.212445</td>\n",
       "      <td>-0.619947</td>\n",
       "      <td>-0.970935</td>\n",
       "      <td>0.966503</td>\n",
       "      <td>1.330499</td>\n",
       "    </tr>\n",
       "    <tr>\n",
       "      <th>4</th>\n",
       "      <td>1.098757</td>\n",
       "      <td>m2</td>\n",
       "      <td>False</td>\n",
       "      <td>False</td>\n",
       "      <td>-0.463646</td>\n",
       "      <td>1.4312</td>\n",
       "      <td>1.02907</td>\n",
       "      <td>-1.025898</td>\n",
       "      <td>1.330499</td>\n",
       "    </tr>\n",
       "  </tbody>\n",
       "</table>\n",
       "</div>"
      ],
      "text/plain": [
       "       area area_units  is_house  has_pool       age     price       lat  \\\n",
       "0 -1.184423         m2      True     False  1.631468  0.229896  1.027922   \n",
       "1  0.238429         m2     False     False -0.254135  0.843512  1.028819   \n",
       "2 -1.085154         m2     False     False -0.673157 -0.006331  1.027677   \n",
       "3  1.065668         m2      True      True  1.212445 -0.619947 -0.970935   \n",
       "4  1.098757         m2     False     False -0.463646    1.4312   1.02907   \n",
       "\n",
       "        lon     rooms  \n",
       "0 -1.029048 -0.777928  \n",
       "1 -1.023917  0.276285  \n",
       "2 -1.031808 -0.777928  \n",
       "3  0.966503  1.330499  \n",
       "4 -1.025898  1.330499  "
      ]
     },
     "execution_count": 5,
     "metadata": {},
     "output_type": "execute_result"
    }
   ],
   "source": [
    "processed_data : data_handler.ProcessedData = data_handler.ProcessedData(area_units='m2') # Contiene los datos normalizados, con los tipos corregidos, y unidades unificadas.\n",
    "processed_data.save_data_to()\n",
    "processed_data.casas_dev.head()"
   ]
  }
 ],
 "metadata": {
  "kernelspec": {
   "display_name": "usr",
   "language": "python",
   "name": "python3"
  },
  "language_info": {
   "codemirror_mode": {
    "name": "ipython",
    "version": 3
   },
   "file_extension": ".py",
   "mimetype": "text/x-python",
   "name": "python",
   "nbconvert_exporter": "python",
   "pygments_lexer": "ipython3",
   "version": "3.12.3"
  }
 },
 "nbformat": 4,
 "nbformat_minor": 2
}
